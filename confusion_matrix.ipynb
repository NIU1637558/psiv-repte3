{
  "nbformat": 4,
  "nbformat_minor": 0,
  "metadata": {
    "colab": {
      "provenance": []
    },
    "kernelspec": {
      "name": "python3",
      "display_name": "Python 3"
    },
    "language_info": {
      "name": "python"
    }
  },
  "cells": [
    {
      "cell_type": "code",
      "source": [
        "import pandas as pd\n",
        "\n",
        "# Cargar el archivo CSV\n",
        "file_path = \"PatientDiagnosis.csv\"  # Cambia esto a la ruta de tu archivo\n",
        "data = pd.read_csv(file_path)\n",
        "\n",
        "# Transformar los valores de la columna DENSITAT\n",
        "y_true = data['DENSITAT'].apply(lambda x: False if x == \"NEGATIVA\" else True).tolist()\n",
        "\n",
        "# Mostrar la lista resultante\n",
        "print(y_true)"
      ],
      "metadata": {
        "colab": {
          "base_uri": "https://localhost:8080/"
        },
        "id": "OfcrKP7akvup",
        "outputId": "50df78e0-dcca-4df7-91e0-353e53fc8a40"
      },
      "execution_count": 5,
      "outputs": [
        {
          "output_type": "stream",
          "name": "stdout",
          "text": [
            "[True, True, False, False, False, False, False, False, False, False, False, False, False, False, False, False, True, True, True, True, True, True, True, False, False, False, False, False, False, False, True, True, True, False, True, True, True, True, True, True, True, True, True, True, True, True, True, True, True, True, True, True, False, False, False, False, False, False, False, False, False, True, True, True, True, True, True, True, True, True, True, True, True, True, True, True, True, True, True, True, True, True, True, True, True, True, False, False, False, False, False, False, False, False, False, True, True, True, True, True, True, True, True, True, True, False, False, False, False, False, False, False, False, True, True, True, True, True, True, True, True, True, True, True, True, True, True, True, True, True, True, True, True, True, True, True, True, True, True, True, True, False, False, False, False, False, False, False, False, False, False, False, False, True, True, True, True, True, True, True, True, True, True, True, False, False, False, False, True, True, False, False, False, True, False, False, False, False, False, False, False, False, False, False, False, False, False, False, False, False, False, False, True, False, False, False, False, False, False, False, False, False, False, False, False, True, False, False, False, False, False, False, False, True, False, False, False, False, True, False, False, True, True, True, True, False, False, False, False, False, True, True, False, False, False, False, False, False, False, True, False, False, False, True, False, False, False, False, True, False, False, False, False, False, True, True, False, False, False, False, False, True, True, True, False, False, True, False, False, False, False, True, True, True, True, True, True, True, True, True, True, False, False, False, False, True, True, True, True, True, True, True, True, True, True, True, True, True, True, True, True, True, True, True, True, True, True, False, False]\n"
          ]
        }
      ]
    },
    {
      "cell_type": "code",
      "source": [
        "y_pred = [False, False, False, False, False, False, False, False, False, False, False, False,\n",
        "          False, False, False, False, False, False, False, False, False, False, False, False,\n",
        "          False, False, False, False, False, False, False, False, False, False, False, False,\n",
        "          False, False, False, False, False, False, False, False, False, False, False, False,\n",
        "          False, False, False, False, False, False, False, False, False, False, False, False,\n",
        "          False, False, False, False, False, False, False, False, False, False, False, False,\n",
        "          False, False, False, False, False, False, False, False, False, False, False, False,\n",
        "          False, False, False, False, False, False, False, False, False, False, False, False,\n",
        "          False, False, False, False, False, False, False, False, False, False, False, False,\n",
        "          False, False, False, False, False, False, False, False, False, False, False, False,\n",
        "          False, False, False, False, False, False, False, False, False, False, False, False,\n",
        "          False, False, False, False, False, False, False, False, False, False, False, False, False, False, False,\n",
        "          False, False, False, False, False, False, False, False, False, False, False, False,\n",
        "          False, False, False, False, False, False, False, False, False, False, False, False,\n",
        "          False, False, False, False, False, False, False, False, False, False, False, False,\n",
        "          False, False, False, False, False, False, False, False, False, False, False, False,\n",
        "          False, False, False, False, False, False, False, False, False, False, False, False,\n",
        "          False, False, False, False, False, False, False, False, False, False, False, False,\n",
        "          False, False, False, False, False, False, False, False, False, False, False, False,\n",
        "          False, False, False, False, False, False, False, False, False, False, False, False,\n",
        "          False, False, False, False, False, False, False, False, False, False, False, False,\n",
        "          False, False, False, False, False, False, False, False, False, False, False, False,\n",
        "          False, False, False, False, False, False, False, False, False, False, False, False, False, False, False,\n",
        "          False, False, False, False, False, False, False, False, False, False, False, False,\n",
        "          False, False, False, False, False, False, False, False, False, False, False, False,\n",
        "          False, False, False]\n"
      ],
      "metadata": {
        "id": "lT7FSwpUl7LS"
      },
      "execution_count": 25,
      "outputs": []
    },
    {
      "cell_type": "code",
      "source": [
        "import matplotlib.pyplot as plt\n",
        "import seaborn as sns\n",
        "from sklearn.metrics import confusion_matrix, accuracy_score, precision_score, recall_score, f1_score\n",
        "\n",
        "def evaluate_classification_from_booleans(y_true, y_pred, save_path=None):\n",
        "    \"\"\"\n",
        "    Evalúa la clasificación basada en dos listas booleanas (True/False).\n",
        "\n",
        "    Args:\n",
        "        y_true (list): Lista de valores reales (True/False).\n",
        "        y_pred (list): Lista de valores predichos (True/False).\n",
        "        save_path (str): Ruta donde guardar la matriz de confusión como imagen (opcional).\n",
        "\n",
        "    Returns:\n",
        "        dict: Métricas de evaluación (accuracy, precision, recall, f1, etc.).\n",
        "    \"\"\"\n",
        "    # Calcular la matriz de confusión\n",
        "    cm = confusion_matrix(y_true, y_pred, labels=[False, True])\n",
        "    tn, fp, fn, tp = cm.ravel()\n",
        "\n",
        "    # Calcular métricas\n",
        "    accuracy = accuracy_score(y_true, y_pred)\n",
        "    precision = precision_score(y_true, y_pred, pos_label=True)\n",
        "    recall = recall_score(y_true, y_pred, pos_label=True)\n",
        "    f1 = f1_score(y_true, y_pred, pos_label=True)\n",
        "\n",
        "    # Imprimir métricas\n",
        "    print(\"Evaluation Metrics\")\n",
        "    print(f\"Confusion Matrix:\\nTN: {tn}, FP: {fp}, FN: {fn}, TP: {tp}\")\n",
        "    print(f\"Accuracy: {accuracy:.4f}\")\n",
        "    print(f\"Precision: {precision:.4f}\")\n",
        "    print(f\"Recall: {recall:.4f}\")\n",
        "    print(f\"F1 Score: {f1:.4f}\")\n",
        "\n",
        "    # Guardar la matriz de confusión como una imagen si `save_path` está definido\n",
        "    if save_path:\n",
        "        plt.figure(figsize=(6, 4))\n",
        "        sns.heatmap(cm, annot=True, fmt=\"d\", cmap=\"Blues\", xticklabels=[\"False\", \"True\"], yticklabels=[\"False\", \"True\"])\n",
        "        plt.xlabel(\"Predicted\")\n",
        "        plt.ylabel(\"True\")\n",
        "        plt.title(\"Confusion Matrix\")\n",
        "        plt.tight_layout()\n",
        "        plt.savefig(f\"{save_path}/confusion_matrix.png\")\n",
        "        plt.close()\n",
        "\n",
        "    # Retornar métricas en un diccionario\n",
        "    metrics = {\n",
        "        \"confusion_matrix\": cm,\n",
        "        \"accuracy\": accuracy,\n",
        "        \"precision\": precision,\n",
        "        \"recall\": recall,\n",
        "        \"f1_score\": f1,\n",
        "        \"tp\": tp,\n",
        "        \"tn\": tn,\n",
        "        \"fp\": fp,\n",
        "        \"fn\": fn\n",
        "    }\n",
        "    return metrics\n",
        "\n"
      ],
      "metadata": {
        "id": "PGFLndWhj3qI"
      },
      "execution_count": 26,
      "outputs": []
    },
    {
      "cell_type": "code",
      "source": [
        "# Evaluar las listas\n",
        "metrics = evaluate_classification_from_booleans(y_true, y_pred)"
      ],
      "metadata": {
        "colab": {
          "base_uri": "https://localhost:8080/"
        },
        "id": "-XFKCVFAoUyw",
        "outputId": "73d4b8f2-4ecb-4978-8fa9-3929de15ee2e"
      },
      "execution_count": 27,
      "outputs": [
        {
          "output_type": "stream",
          "name": "stdout",
          "text": [
            "Evaluation Metrics\n",
            "Confusion Matrix:\n",
            "TN: 151, FP: 0, FN: 158, TP: 0\n",
            "Accuracy: 0.4887\n",
            "Precision: 0.0000\n",
            "Recall: 0.0000\n",
            "F1 Score: 0.0000\n"
          ]
        },
        {
          "output_type": "stream",
          "name": "stderr",
          "text": [
            "/usr/local/lib/python3.10/dist-packages/sklearn/metrics/_classification.py:1531: UndefinedMetricWarning: Precision is ill-defined and being set to 0.0 due to no predicted samples. Use `zero_division` parameter to control this behavior.\n",
            "  _warn_prf(average, modifier, f\"{metric.capitalize()} is\", len(result))\n"
          ]
        }
      ]
    }
  ]
}