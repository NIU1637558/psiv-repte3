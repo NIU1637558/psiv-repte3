{
  "nbformat": 4,
  "nbformat_minor": 0,
  "metadata": {
    "colab": {
      "provenance": []
    },
    "kernelspec": {
      "name": "python3",
      "display_name": "Python 3"
    },
    "language_info": {
      "name": "python"
    }
  },
  "cells": [
    {
      "cell_type": "markdown",
      "source": [
        "**ESTUDI ESTADISTIC PATCHES_THRESHOLDS**"
      ],
      "metadata": {
        "id": "6wyoekrybokk"
      }
    },
    {
      "cell_type": "code",
      "source": [
        "import pandas as pd\n",
        "\n",
        "\n",
        "csv_path = \"patches_thresholds.csv\"  # Asegúrate de que el nombre del archivo sea correcto\n",
        "data = pd.read_csv(csv_path)\n",
        "\n",
        "# Convertir la columna 'threshold' en una lista\n",
        "data_list = data['threshold'].tolist()\n",
        "\n",
        "# Imprimir la lista resultante\n",
        "print(data_list)"
      ],
      "metadata": {
        "colab": {
          "base_uri": "https://localhost:8080/"
        },
        "id": "EUWgmd8PbNQj",
        "outputId": "5175498a-19f9-4071-d014-20f36981641f"
      },
      "execution_count": 46,
      "outputs": [
        {
          "output_type": "stream",
          "name": "stdout",
          "text": [
            "[97.0, 104.0, 104.0, 97.0, 97.0, 104.0, 97.0, 97.0, 97.0, 97.0, 95.0, 97.0, 97.0, 97.0, 97.0, 97.0, 95.0, 97.0, 50.0, 97.0]\n"
          ]
        }
      ]
    },
    {
      "cell_type": "code",
      "execution_count": 47,
      "metadata": {
        "colab": {
          "base_uri": "https://localhost:8080/"
        },
        "id": "shWVoTf1aaG-",
        "outputId": "1bd176c3-9058-4a4b-86e7-262bb7822977"
      },
      "outputs": [
        {
          "output_type": "stream",
          "name": "stdout",
          "text": [
            "Media: 95.5\n",
            "Mediana: 97.0\n",
            "Desviacion_estandar: 11.047743279916824\n",
            "Varianza: 122.05263157894737\n",
            "Rango: 54.0\n",
            "Minimo: 50.0\n",
            "Maximo: 104.0\n",
            "Percentil_25: 97.0\n",
            "Percentil_50: 97.0\n",
            "Percentil_75: 97.0\n",
            "Intervalo_confianza: 90.66 a 100.34\n"
          ]
        }
      ],
      "source": [
        "import numpy as np\n",
        "from scipy.stats import norm\n",
        "\n",
        "def estudio_estadistico(valores, nivel_confianza=0.95):\n",
        "    \"\"\"\n",
        "    Realiza un estudio estadístico básico de una lista de valores.\n",
        "\n",
        "    :param valores: Lista de valores numéricos.\n",
        "    :param nivel_confianza: Nivel de confianza para el intervalo (por defecto 0.95).\n",
        "    :return: Diccionario con las métricas calculadas.\n",
        "    \"\"\"\n",
        "    if not valores:\n",
        "        return \"La lista está vacía. Proporcione valores válidos.\"\n",
        "\n",
        "    # Convertir a un array de numpy para facilidad de cálculo\n",
        "    valores_np = np.array(valores)\n",
        "\n",
        "    # Cálculos básicos\n",
        "    media = np.mean(valores_np)\n",
        "    std_dev = np.std(valores_np, ddof=1)  # ddof=1 para muestra\n",
        "    n = len(valores_np)\n",
        "\n",
        "    # Calcular el intervalo de confianza\n",
        "    z = norm.ppf(1 - (1 - nivel_confianza) / 2)  # Valor crítico z\n",
        "    margen_error = z * (std_dev / np.sqrt(n))\n",
        "    intervalo_confianza = (media - margen_error, media + margen_error)\n",
        "\n",
        "    # Cálculos estadísticos\n",
        "    estadisticas = {\n",
        "        'media': media,\n",
        "        'mediana': np.median(valores_np),\n",
        "        'desviacion_estandar': std_dev,\n",
        "        'varianza': np.var(valores_np, ddof=1),\n",
        "        'rango': np.ptp(valores_np),\n",
        "        'minimo': np.min(valores_np),\n",
        "        'maximo': np.max(valores_np),\n",
        "        'percentil_25': np.percentile(valores_np, 25),\n",
        "        'percentil_50': np.percentile(valores_np, 50),\n",
        "        'percentil_75': np.percentile(valores_np, 75),\n",
        "        'intervalo_confianza': intervalo_confianza\n",
        "    }\n",
        "\n",
        "    return estadisticas\n",
        "\n",
        "resultado = estudio_estadistico(data_list)\n",
        "\n",
        "# Mostrar el resultado\n",
        "for clave, valor in resultado.items():\n",
        "    if clave == 'intervalo_confianza':\n",
        "        print(f\"{clave.capitalize()}: {valor[0]:.2f} a {valor[1]:.2f}\")\n",
        "    else:\n",
        "        print(f\"{clave.capitalize()}: {valor}\")\n"
      ]
    },
    {
      "cell_type": "markdown",
      "source": [
        "**ESTUDI ESTADISTIC PATIENT_THRESHOLDS**"
      ],
      "metadata": {
        "id": "JBgaYvoucYcl"
      }
    },
    {
      "cell_type": "code",
      "source": [
        "import pandas as pd\n",
        "\n",
        "\n",
        "csv_path = \"patient_thresholds.csv\"  # Asegúrate de que el nombre del archivo sea correcto\n",
        "data = pd.read_csv(csv_path)\n",
        "\n",
        "# Convertir la columna 'threshold' en una lista\n",
        "data_list = data['threshold'].tolist()\n",
        "\n",
        "# Imprimir la lista resultante\n",
        "print(data_list)"
      ],
      "metadata": {
        "colab": {
          "base_uri": "https://localhost:8080/"
        },
        "id": "Bu0Tjl_zagw6",
        "outputId": "7d707153-fb77-4bd4-ac3d-4e85731b208c"
      },
      "execution_count": 48,
      "outputs": [
        {
          "output_type": "stream",
          "name": "stdout",
          "text": [
            "[0.106, 0.096, 0.096, 0.106, 0.106, 0.096, 0.106, 0.1132075471698113, 0.106, 0.106, 0.108, 0.106, 0.106, 0.106, 0.106, 0.106, 0.108, 0.106, 0.1730103806228373, 0.106]\n"
          ]
        }
      ]
    },
    {
      "cell_type": "code",
      "source": [
        "import numpy as np\n",
        "from scipy.stats import norm\n",
        "\n",
        "def estudio_estadistico(valores, nivel_confianza=0.95):\n",
        "    \"\"\"\n",
        "    Realiza un estudio estadístico básico de una lista de valores.\n",
        "\n",
        "    :param valores: Lista de valores numéricos.\n",
        "    :param nivel_confianza: Nivel de confianza para el intervalo (por defecto 0.95).\n",
        "    :return: Diccionario con las métricas calculadas.\n",
        "    \"\"\"\n",
        "    if not valores:\n",
        "        return \"La lista está vacía. Proporcione valores válidos.\"\n",
        "\n",
        "    # Convertir a un array de numpy para facilidad de cálculo\n",
        "    valores_np = np.array(valores)\n",
        "\n",
        "    # Cálculos básicos\n",
        "    media = np.mean(valores_np)\n",
        "    std_dev = np.std(valores_np, ddof=1)  # ddof=1 para muestra\n",
        "    n = len(valores_np)\n",
        "\n",
        "    # Calcular el intervalo de confianza\n",
        "    z = norm.ppf(1 - (1 - nivel_confianza) / 2)  # Valor crítico z\n",
        "    margen_error = z * (std_dev / np.sqrt(n))\n",
        "    intervalo_confianza = (media - margen_error, media + margen_error)\n",
        "\n",
        "    # Cálculos estadísticos\n",
        "    estadisticas = {\n",
        "        'media': media,\n",
        "        'mediana': np.median(valores_np),\n",
        "        'desviacion_estandar': std_dev,\n",
        "        'varianza': np.var(valores_np, ddof=1),\n",
        "        'rango': np.ptp(valores_np),\n",
        "        'minimo': np.min(valores_np),\n",
        "        'maximo': np.max(valores_np),\n",
        "        'percentil_25': np.percentile(valores_np, 25),\n",
        "        'percentil_50': np.percentile(valores_np, 50),\n",
        "        'percentil_75': np.percentile(valores_np, 75),\n",
        "        'intervalo_confianza': intervalo_confianza\n",
        "    }\n",
        "\n",
        "    return estadisticas\n",
        "\n",
        "resultado = estudio_estadistico(data_list)\n",
        "\n",
        "# Mostrar el resultado\n",
        "for clave, valor in resultado.items():\n",
        "    if clave == 'intervalo_confianza':\n",
        "        print(f\"{clave.capitalize()}: {valor[0]:.2f} a {valor[1]:.2f}\")\n",
        "    else:\n",
        "        print(f\"{clave.capitalize()}: {valor}\")\n"
      ],
      "metadata": {
        "colab": {
          "base_uri": "https://localhost:8080/"
        },
        "id": "XVzdcpZ1cm5n",
        "outputId": "a748ac16-715f-4478-cfe9-f4709611f73c"
      },
      "execution_count": 49,
      "outputs": [
        {
          "output_type": "stream",
          "name": "stdout",
          "text": [
            "Media: 0.10841089638963244\n",
            "Mediana: 0.106\n",
            "Desviacion_estandar: 0.015784888542013063\n",
            "Varianza: 0.00024916270628377526\n",
            "Rango: 0.0770103806228373\n",
            "Minimo: 0.096\n",
            "Maximo: 0.1730103806228373\n",
            "Percentil_25: 0.106\n",
            "Percentil_50: 0.106\n",
            "Percentil_75: 0.106\n",
            "Intervalo_confianza: 0.10 a 0.12\n"
          ]
        }
      ]
    },
    {
      "cell_type": "markdown",
      "source": [
        "**ESTUDI ESTADISTIC METRICS_TH1**"
      ],
      "metadata": {
        "id": "lypkhb05jz5N"
      }
    },
    {
      "cell_type": "code",
      "source": [
        "import pandas as pd\n",
        "\n",
        "csv_path = \"metrics_th1.csv\"  # Asegúrate de que el nombre del archivo sea correcto\n",
        "data = pd.read_csv(csv_path)\n",
        "data = data.drop(columns=['fold'])"
      ],
      "metadata": {
        "id": "UO_IQErZktIh"
      },
      "execution_count": 50,
      "outputs": []
    },
    {
      "cell_type": "code",
      "source": [
        "import pandas as pd\n",
        "import numpy as np\n",
        "from scipy.stats import norm\n",
        "from tabulate import tabulate\n",
        "\n",
        "def calcular_estadisticas(data, nivel_confianza=0.95):\n",
        "    \"\"\"\n",
        "    Calcula estadísticas básicas para todas las columnas numéricas de un DataFrame.\n",
        "\n",
        "    :param data: DataFrame con columnas numéricas.\n",
        "    :param nivel_confianza: Nivel de confianza para el intervalo (por defecto 0.95).\n",
        "    :return: DataFrame con las estadísticas por columna.\n",
        "    \"\"\"\n",
        "    resultados = {}\n",
        "    columnas_numericas = data.select_dtypes(include=[np.number]).columns\n",
        "\n",
        "    for columna in columnas_numericas:\n",
        "        valores = data[columna].dropna()  # Excluir valores NaN\n",
        "        media = np.mean(valores)\n",
        "        mediana = np.median(valores)\n",
        "        std_dev = np.std(valores, ddof=1)\n",
        "        varianza = np.var(valores, ddof=1)\n",
        "        rango = np.ptp(valores)\n",
        "        minimo = np.min(valores)\n",
        "        maximo = np.max(valores)\n",
        "        percentil_25 = np.percentile(valores, 25)\n",
        "        percentil_75 = np.percentile(valores, 75)\n",
        "\n",
        "        # Intervalo de confianza\n",
        "        n = len(valores)\n",
        "        z = norm.ppf(1 - (1 - nivel_confianza) / 2)\n",
        "        margen_error = z * (std_dev / np.sqrt(n))\n",
        "        intervalo_confianza = (media - margen_error, media + margen_error)\n",
        "\n",
        "        # Guardar resultados\n",
        "        resultados[columna] = {\n",
        "            'Media': media,\n",
        "            'Mediana': mediana,\n",
        "            'Desviación Estándar': std_dev,\n",
        "            'Varianza': varianza,\n",
        "            'Rango': rango,\n",
        "            'Mínimo': minimo,\n",
        "            'Máximo': maximo,\n",
        "            'Percentil 25': percentil_25,\n",
        "            'Percentil 75': percentil_75,\n",
        "            'IC 95%': intervalo_confianza,\n",
        "\n",
        "        }\n",
        "\n",
        "    return pd.DataFrame(resultados)\n",
        "\n",
        "# Calcular estadísticas para las columnas del archivo\n",
        "estadisticas = calcular_estadisticas(data)\n",
        "\n",
        "# Mostrar las estadísticas en formato tabla por pantalla\n",
        "print(tabulate(estadisticas, headers=\"keys\", tablefmt=\"grid\"))\n"
      ],
      "metadata": {
        "colab": {
          "base_uri": "https://localhost:8080/"
        },
        "id": "i8l9OTMMkOd-",
        "outputId": "1a85a892-c515-4da1-8269-a81f443de17c"
      },
      "execution_count": 51,
      "outputs": [
        {
          "output_type": "stream",
          "name": "stdout",
          "text": [
            "+---------------------+------------------------------------------+------------------------------------------+------------------------------------------+------------------------------------------+-----------------------------------------+\n",
            "|                     | precision                                | recall_pos                               | recall_neg                               | f1_score                                 | auc                                     |\n",
            "+=====================+==========================================+==========================================+==========================================+==========================================+=========================================+\n",
            "| Media               | 0.7409897487236082                       | 0.8189543043612657                       | 0.6912947206050655                       | 0.7089411821738346                       | 0.8630423079655444                      |\n",
            "+---------------------+------------------------------------------+------------------------------------------+------------------------------------------+------------------------------------------+-----------------------------------------+\n",
            "| Mediana             | 0.936105476673428                        | 0.8982758620689655                       | 0.8557744937055282                       | 0.8747549019607843                       | 0.8652518978605935                      |\n",
            "+---------------------+------------------------------------------+------------------------------------------+------------------------------------------+------------------------------------------+-----------------------------------------+\n",
            "| Desviación Estándar | 0.385154783937449                        | 0.19271011870523702                      | 0.3731655723661773                       | 0.3694944569008102                       | 0.0866126063246023                      |\n",
            "+---------------------+------------------------------------------+------------------------------------------+------------------------------------------+------------------------------------------+-----------------------------------------+\n",
            "| Varianza            | 0.14834420758990302                      | 0.03713718985138654                      | 0.1392525443993767                       | 0.13652615368042467                      | 0.007501743574340538                    |\n",
            "+---------------------+------------------------------------------+------------------------------------------+------------------------------------------+------------------------------------------+-----------------------------------------+\n",
            "| Rango               | 1.0                                      | 0.59375                                  | 1.0                                      | 0.9908256880733944                       | 0.2754545454545454                      |\n",
            "+---------------------+------------------------------------------+------------------------------------------+------------------------------------------+------------------------------------------+-----------------------------------------+\n",
            "| Mínimo              | 0.0                                      | 0.40625                                  | 0.0                                      | 0.0                                      | 0.7045454545454546                      |\n",
            "+---------------------+------------------------------------------+------------------------------------------+------------------------------------------+------------------------------------------+-----------------------------------------+\n",
            "| Máximo              | 1.0                                      | 1.0                                      | 1.0                                      | 0.9908256880733944                       | 0.98                                    |\n",
            "+---------------------+------------------------------------------+------------------------------------------+------------------------------------------+------------------------------------------+-----------------------------------------+\n",
            "| Percentil 25        | 0.7792642140468228                       | 0.7880434782608696                       | 0.6170634920634921                       | 0.7536764705882353                       | 0.8039515048443621                      |\n",
            "+---------------------+------------------------------------------+------------------------------------------+------------------------------------------+------------------------------------------+-----------------------------------------+\n",
            "| Percentil 75        | 0.9711751662971174                       | 0.9550395256916997                       | 0.9396551724137931                       | 0.9241917502787067                       | 0.933354771681591                       |\n",
            "+---------------------+------------------------------------------+------------------------------------------+------------------------------------------+------------------------------------------+-----------------------------------------+\n",
            "| IC 95%              | (0.5721913238575697, 0.9097881735896468) | (0.7344969229401013, 0.9034116857824301) | (0.5277507028320075, 0.8548387383781234) | (0.5470060721280035, 0.8708762922196658) | (0.8206029107147027, 0.905481705216386) |\n",
            "+---------------------+------------------------------------------+------------------------------------------+------------------------------------------+------------------------------------------+-----------------------------------------+\n"
          ]
        }
      ]
    },
    {
      "cell_type": "markdown",
      "source": [
        "**ESTUDI ESTADISTIC METRICS_TH1_TRAIN**"
      ],
      "metadata": {
        "id": "WQcscywYl6Bt"
      }
    },
    {
      "cell_type": "code",
      "source": [
        "import pandas as pd\n",
        "\n",
        "csv_path = \"metrics_th1_train.csv\"  # Asegúrate de que el nombre del archivo sea correcto\n",
        "data = pd.read_csv(csv_path)\n",
        "data = data.drop(columns=['fold'])"
      ],
      "metadata": {
        "id": "50-qaXgvkj_1"
      },
      "execution_count": 52,
      "outputs": []
    },
    {
      "cell_type": "code",
      "source": [
        "import pandas as pd\n",
        "import numpy as np\n",
        "from scipy.stats import norm\n",
        "from tabulate import tabulate\n",
        "\n",
        "def calcular_estadisticas(data, nivel_confianza=0.95):\n",
        "    \"\"\"\n",
        "    Calcula estadísticas básicas para todas las columnas numéricas de un DataFrame.\n",
        "\n",
        "    :param data: DataFrame con columnas numéricas.\n",
        "    :param nivel_confianza: Nivel de confianza para el intervalo (por defecto 0.95).\n",
        "    :return: DataFrame con las estadísticas por columna.\n",
        "    \"\"\"\n",
        "    resultados = {}\n",
        "    columnas_numericas = data.select_dtypes(include=[np.number]).columns\n",
        "\n",
        "    for columna in columnas_numericas:\n",
        "        valores = data[columna].dropna()  # Excluir valores NaN\n",
        "        media = np.mean(valores)\n",
        "        mediana = np.median(valores)\n",
        "        std_dev = np.std(valores, ddof=1)\n",
        "        varianza = np.var(valores, ddof=1)\n",
        "        rango = np.ptp(valores)\n",
        "        minimo = np.min(valores)\n",
        "        maximo = np.max(valores)\n",
        "        percentil_25 = np.percentile(valores, 25)\n",
        "        percentil_75 = np.percentile(valores, 75)\n",
        "\n",
        "        # Intervalo de confianza\n",
        "        n = len(valores)\n",
        "        z = norm.ppf(1 - (1 - nivel_confianza) / 2)\n",
        "        margen_error = z * (std_dev / np.sqrt(n))\n",
        "        intervalo_confianza = (media - margen_error, media + margen_error)\n",
        "\n",
        "        # Guardar resultados\n",
        "        resultados[columna] = {\n",
        "            'Media': media,\n",
        "            'Mediana': mediana,\n",
        "            'Desviación Estándar': std_dev,\n",
        "            'Varianza': varianza,\n",
        "            'Rango': rango,\n",
        "            'Mínimo': minimo,\n",
        "            'Máximo': maximo,\n",
        "            'Percentil 25': percentil_25,\n",
        "            'Percentil 75': percentil_75,\n",
        "            'IC 95%': intervalo_confianza,\n",
        "\n",
        "        }\n",
        "\n",
        "    return pd.DataFrame(resultados)\n",
        "\n",
        "# Calcular estadísticas para las columnas del archivo\n",
        "estadisticas = calcular_estadisticas(data)\n",
        "\n",
        "# Mostrar las estadísticas en formato tabla por pantalla\n",
        "print(tabulate(estadisticas, headers=\"keys\", tablefmt=\"grid\"))"
      ],
      "metadata": {
        "colab": {
          "base_uri": "https://localhost:8080/"
        },
        "id": "PulRnlN_mCwl",
        "outputId": "e6ac0667-5ef3-4762-8bd1-51b793f7b87f"
      },
      "execution_count": 53,
      "outputs": [
        {
          "output_type": "stream",
          "name": "stdout",
          "text": [
            "+---------------------+------------------------------------------+------------------------------------------+------------------------------------------+------------------------------------------+------------------------------------------+\n",
            "|                     | precision                                | recall_pos                               | recall_neg                               | f1_score                                 | auc                                      |\n",
            "+=====================+==========================================+==========================================+==========================================+==========================================+==========================================+\n",
            "| Media               | 0.8248045209267005                       | 0.7874480568300941                       | 0.836916377754962                        | 0.8307405259938312                       | 0.8121822172925279                       |\n",
            "+---------------------+------------------------------------------+------------------------------------------+------------------------------------------+------------------------------------------+------------------------------------------+\n",
            "| Mediana             | 0.8235272207527511                       | 0.7849914154394122                       | 0.8321627343088763                       | 0.8281574485053884                       | 0.8098164633315201                       |\n",
            "+---------------------+------------------------------------------+------------------------------------------+------------------------------------------+------------------------------------------+------------------------------------------+\n",
            "| Desviación Estándar | 0.016909539039671042                     | 0.008139679232022846                     | 0.020956041800256155                     | 0.01710387816880989                      | 0.011401497762428135                     |\n",
            "+---------------------+------------------------------------------+------------------------------------------+------------------------------------------+------------------------------------------+------------------------------------------+\n",
            "| Varianza            | 0.00028593251053415903                   | 6.625437800022404e-05                    | 0.00043915568793408317                   | 0.00029254264841349154                   | 0.00012999415122665376                   |\n",
            "+---------------------+------------------------------------------+------------------------------------------+------------------------------------------+------------------------------------------+------------------------------------------+\n",
            "| Rango               | 0.0870828629885706                       | 0.03087830539622305                      | 0.09178885294050154                      | 0.08939772177804772                      | 0.054518871783895584                     |\n",
            "+---------------------+------------------------------------------+------------------------------------------+------------------------------------------+------------------------------------------+------------------------------------------+\n",
            "| Mínimo              | 0.8009868421052632                       | 0.7710196779964222                       | 0.8157453936348409                       | 0.8082987551867219                       | 0.8001972432000982                       |\n",
            "+---------------------+------------------------------------------+------------------------------------------+------------------------------------------+------------------------------------------+------------------------------------------+\n",
            "| Máximo              | 0.8880697050938338                       | 0.8018979833926453                       | 0.9075342465753424                       | 0.8976964769647696                       | 0.8547161149839938                       |\n",
            "+---------------------+------------------------------------------+------------------------------------------+------------------------------------------+------------------------------------------+------------------------------------------+\n",
            "| Percentil 25        | 0.8200073497358409                       | 0.7840265117108064                       | 0.8278805120910384                       | 0.8239250464077432                       | 0.8071131080994616                       |\n",
            "+---------------------+------------------------------------------+------------------------------------------+------------------------------------------+------------------------------------------+------------------------------------------+\n",
            "| Percentil 75        | 0.8268934502537614                       | 0.7935182797085563                       | 0.8358064298907188                       | 0.8306066802999318                       | 0.8130545163377643                       |\n",
            "+---------------------+------------------------------------------+------------------------------------------+------------------------------------------+------------------------------------------+------------------------------------------+\n",
            "| IC 95%              | (0.8173937248671849, 0.8322153169862162) | (0.7838807506701285, 0.7910153629900597) | (0.8277321562553672, 0.8461005992545567) | (0.8232445586207124, 0.8382364933669499) | (0.8071853823999771, 0.8171790521850788) |\n",
            "+---------------------+------------------------------------------+------------------------------------------+------------------------------------------+------------------------------------------+------------------------------------------+\n"
          ]
        }
      ]
    },
    {
      "cell_type": "markdown",
      "source": [
        "**ESTUDI ESTADISTIC METRICS_TH2**"
      ],
      "metadata": {
        "id": "d-kNLhCDmMe_"
      }
    },
    {
      "cell_type": "code",
      "source": [
        "import pandas as pd\n",
        "\n",
        "csv_path = \"metrics_th2.csv\"  # Asegúrate de que el nombre del archivo sea correcto\n",
        "data = pd.read_csv(csv_path)\n",
        "data = data.drop(columns=['fold'])"
      ],
      "metadata": {
        "id": "p_E8oqV7mHry"
      },
      "execution_count": 54,
      "outputs": []
    },
    {
      "cell_type": "code",
      "source": [
        "import pandas as pd\n",
        "import numpy as np\n",
        "from scipy.stats import norm\n",
        "from tabulate import tabulate\n",
        "\n",
        "def calcular_estadisticas(data, nivel_confianza=0.95):\n",
        "    \"\"\"\n",
        "    Calcula estadísticas básicas para todas las columnas numéricas de un DataFrame.\n",
        "\n",
        "    :param data: DataFrame con columnas numéricas.\n",
        "    :param nivel_confianza: Nivel de confianza para el intervalo (por defecto 0.95).\n",
        "    :return: DataFrame con las estadísticas por columna.\n",
        "    \"\"\"\n",
        "    resultados = {}\n",
        "    columnas_numericas = data.select_dtypes(include=[np.number]).columns\n",
        "\n",
        "    for columna in columnas_numericas:\n",
        "        valores = data[columna].dropna()  # Excluir valores NaN\n",
        "        media = np.mean(valores)\n",
        "        mediana = np.median(valores)\n",
        "        std_dev = np.std(valores, ddof=1)\n",
        "        varianza = np.var(valores, ddof=1)\n",
        "        rango = np.ptp(valores)\n",
        "        minimo = np.min(valores)\n",
        "        maximo = np.max(valores)\n",
        "        percentil_25 = np.percentile(valores, 25)\n",
        "        percentil_75 = np.percentile(valores, 75)\n",
        "\n",
        "        # Intervalo de confianza\n",
        "        n = len(valores)\n",
        "        z = norm.ppf(1 - (1 - nivel_confianza) / 2)\n",
        "        margen_error = z * (std_dev / np.sqrt(n))\n",
        "        intervalo_confianza = (media - margen_error, media + margen_error)\n",
        "\n",
        "        # Guardar resultados\n",
        "        resultados[columna] = {\n",
        "            'Media': media,\n",
        "            'Mediana': mediana,\n",
        "            'Desviación Estándar': std_dev,\n",
        "            'Varianza': varianza,\n",
        "            'Rango': rango,\n",
        "            'Mínimo': minimo,\n",
        "            'Máximo': maximo,\n",
        "            'Percentil 25': percentil_25,\n",
        "            'Percentil 75': percentil_75,\n",
        "            'IC 95%': intervalo_confianza,\n",
        "\n",
        "        }\n",
        "\n",
        "    return pd.DataFrame(resultados)\n",
        "\n",
        "# Calcular estadísticas para las columnas del archivo\n",
        "estadisticas = calcular_estadisticas(data)\n",
        "\n",
        "# Mostrar las estadísticas en formato tabla por pantalla\n",
        "print(tabulate(estadisticas, headers=\"keys\", tablefmt=\"grid\"))"
      ],
      "metadata": {
        "colab": {
          "base_uri": "https://localhost:8080/"
        },
        "id": "8fGkU53smY6_",
        "outputId": "a3891435-2a8b-4e13-ddfd-bb03e425e2b2"
      },
      "execution_count": 55,
      "outputs": [
        {
          "output_type": "stream",
          "name": "stdout",
          "text": [
            "+---------------------+-----------------------------------------+------------------------------------------+------------------------------------------+------------------------------------------+------------------------------------------+\n",
            "|                     | precision                               | recall_pos                               | recall_neg                               | f1_score                                 | auc                                      |\n",
            "+=====================+=========================================+==========================================+==========================================+==========================================+==========================================+\n",
            "| Media               | 0.8258333333333333                      | 0.7877380952380952                       | 0.9275                                   | 0.8565584415584414                       | 0.8576190476190477                       |\n",
            "+---------------------+-----------------------------------------+------------------------------------------+------------------------------------------+------------------------------------------+------------------------------------------+\n",
            "| Mediana             | 0.9166666666666667                      | 0.9                                      | 1.0                                      | 0.8831168831168832                       | 0.8875                                   |\n",
            "+---------------------+-----------------------------------------+------------------------------------------+------------------------------------------+------------------------------------------+------------------------------------------+\n",
            "| Desviación Estándar | 0.23033632922620673                     | 0.2765243800903309                       | 0.14258218108365822                      | 0.18165841991993142                      | 0.16035925698155926                      |\n",
            "+---------------------+-----------------------------------------+------------------------------------------+------------------------------------------+------------------------------------------+------------------------------------------+\n",
            "| Varianza            | 0.0530548245614035                      | 0.0764657327843418                       | 0.020329678362573107                     | 0.03299978152780614                      | 0.025715091299677764                     |\n",
            "+---------------------+-----------------------------------------+------------------------------------------+------------------------------------------+------------------------------------------+------------------------------------------+\n",
            "| Rango               | 0.75                                    | 1.0                                      | 0.5                                      | 0.6666666666666667                       | 0.5                                      |\n",
            "+---------------------+-----------------------------------------+------------------------------------------+------------------------------------------+------------------------------------------+------------------------------------------+\n",
            "| Mínimo              | 0.25                                    | 0.0                                      | 0.5                                      | 0.3333333333333333                       | 0.5                                      |\n",
            "+---------------------+-----------------------------------------+------------------------------------------+------------------------------------------+------------------------------------------+------------------------------------------+\n",
            "| Máximo              | 1.0                                     | 1.0                                      | 1.0                                      | 1.0                                      | 1.0                                      |\n",
            "+---------------------+-----------------------------------------+------------------------------------------+------------------------------------------+------------------------------------------+------------------------------------------+\n",
            "| Percentil 25        | 0.75                                    | 0.6666666666666666                       | 0.9583333333333334                       | 0.8428571428571429                       | 0.7875000000000001                       |\n",
            "+---------------------+-----------------------------------------+------------------------------------------+------------------------------------------+------------------------------------------+------------------------------------------+\n",
            "| Percentil 75        | 1.0                                     | 1.0                                      | 1.0                                      | 1.0                                      | 1.0                                      |\n",
            "+---------------------+-----------------------------------------+------------------------------------------+------------------------------------------+------------------------------------------+------------------------------------------+\n",
            "| IC 95%              | (0.724885841093114, 0.9267808255735526) | (0.6665481691540247, 0.9089280213221658) | (0.8650117521978008, 0.9899882478021992) | (0.7769445916857685, 0.9361722914311144) | (0.7873397959518231, 0.9278982992862723) |\n",
            "+---------------------+-----------------------------------------+------------------------------------------+------------------------------------------+------------------------------------------+------------------------------------------+\n"
          ]
        }
      ]
    },
    {
      "cell_type": "markdown",
      "source": [
        "**ESTUDI ESTADISTIC METRICS_TH2_TRAIN**"
      ],
      "metadata": {
        "id": "5jL7pobFmL2O"
      }
    },
    {
      "cell_type": "code",
      "source": [
        "import pandas as pd\n",
        "\n",
        "csv_path = \"metrics_th2_train.csv\"  # Asegúrate de que el nombre del archivo sea correcto\n",
        "data = pd.read_csv(csv_path)\n",
        "data = data.drop(columns=['fold'])"
      ],
      "metadata": {
        "id": "JXKNzEkCmR0x"
      },
      "execution_count": 56,
      "outputs": []
    },
    {
      "cell_type": "code",
      "source": [
        "import pandas as pd\n",
        "import numpy as np\n",
        "from scipy.stats import norm\n",
        "from tabulate import tabulate\n",
        "\n",
        "def calcular_estadisticas(data, nivel_confianza=0.95):\n",
        "    \"\"\"\n",
        "    Calcula estadísticas básicas para todas las columnas numéricas de un DataFrame.\n",
        "\n",
        "    :param data: DataFrame con columnas numéricas.\n",
        "    :param nivel_confianza: Nivel de confianza para el intervalo (por defecto 0.95).\n",
        "    :return: DataFrame con las estadísticas por columna.\n",
        "    \"\"\"\n",
        "    resultados = {}\n",
        "    columnas_numericas = data.select_dtypes(include=[np.number]).columns\n",
        "\n",
        "    for columna in columnas_numericas:\n",
        "        valores = data[columna].dropna()  # Excluir valores NaN\n",
        "        media = np.mean(valores)\n",
        "        mediana = np.median(valores)\n",
        "        std_dev = np.std(valores, ddof=1)\n",
        "        varianza = np.var(valores, ddof=1)\n",
        "        rango = np.ptp(valores)\n",
        "        minimo = np.min(valores)\n",
        "        maximo = np.max(valores)\n",
        "        percentil_25 = np.percentile(valores, 25)\n",
        "        percentil_75 = np.percentile(valores, 75)\n",
        "\n",
        "        # Intervalo de confianza\n",
        "        n = len(valores)\n",
        "        z = norm.ppf(1 - (1 - nivel_confianza) / 2)\n",
        "        margen_error = z * (std_dev / np.sqrt(n))\n",
        "        intervalo_confianza = (media - margen_error, media + margen_error)\n",
        "\n",
        "        # Guardar resultados\n",
        "        resultados[columna] = {\n",
        "            'Media': media,\n",
        "            'Mediana': mediana,\n",
        "            'Desviación Estándar': std_dev,\n",
        "            'Varianza': varianza,\n",
        "            'Rango': rango,\n",
        "            'Mínimo': minimo,\n",
        "            'Máximo': maximo,\n",
        "            'Percentil 25': percentil_25,\n",
        "            'Percentil 75': percentil_75,\n",
        "            'IC 95%': intervalo_confianza,\n",
        "\n",
        "        }\n",
        "\n",
        "    return pd.DataFrame(resultados)\n",
        "\n",
        "# Calcular estadísticas para las columnas del archivo\n",
        "estadisticas = calcular_estadisticas(data)\n",
        "\n",
        "# Mostrar las estadísticas en formato tabla por pantalla\n",
        "print(tabulate(estadisticas, headers=\"keys\", tablefmt=\"grid\"))"
      ],
      "metadata": {
        "colab": {
          "base_uri": "https://localhost:8080/"
        },
        "id": "DujlYI16mZ6d",
        "outputId": "e6bea1fa-777f-432d-d14a-4364baff39ed"
      },
      "execution_count": 57,
      "outputs": [
        {
          "output_type": "stream",
          "name": "stdout",
          "text": [
            "+---------------------+------------------------------------------+------------------------------------------+------------------------------------------+------------------------------------------+------------------------------------------+\n",
            "|                     | precision                                | recall_pos                               | recall_neg                               | f1_score                                 | auc                                      |\n",
            "+=====================+==========================================+==========================================+==========================================+==========================================+==========================================+\n",
            "| Media               | 0.8482581559242608                       | 0.8135411228091032                       | 0.9480382430976757                       | 0.8953528574717803                       | 0.8807896829533896                       |\n",
            "+---------------------+------------------------------------------+------------------------------------------+------------------------------------------+------------------------------------------+------------------------------------------+\n",
            "| Mediana             | 0.8475800446760983                       | 0.81210407239819                         | 0.945945945945946                        | 0.8947368421052632                       | 0.881261797364383                        |\n",
            "+---------------------+------------------------------------------+------------------------------------------+------------------------------------------+------------------------------------------+------------------------------------------+\n",
            "| Desviación Estándar | 0.009790217497574081                     | 0.010695390078982545                     | 0.0056350524162455855                    | 0.00683134816456822                      | 0.006402734777798288                     |\n",
            "+---------------------+------------------------------------------+------------------------------------------+------------------------------------------+------------------------------------------+------------------------------------------+\n",
            "| Varianza            | 9.584835864980572e-05                    | 0.00011439136894159827                   | 3.175381573383521e-05                    | 4.66673177455496e-05                     | 4.099501263482769e-05                    |\n",
            "+---------------------+------------------------------------------+------------------------------------------+------------------------------------------+------------------------------------------+------------------------------------------+\n",
            "| Rango               | 0.042605742513121325                     | 0.04439484126984128                      | 0.017142857142857126                     | 0.03129141196084306                      | 0.028032180908893145                     |\n",
            "+---------------------+------------------------------------------+------------------------------------------+------------------------------------------+------------------------------------------+------------------------------------------+\n",
            "| Mínimo              | 0.8354430379746836                       | 0.796875                                 | 0.9428571428571428                       | 0.8859060402684563                       | 0.8726027397260274                       |\n",
            "+---------------------+------------------------------------------+------------------------------------------+------------------------------------------+------------------------------------------+------------------------------------------+\n",
            "| Máximo              | 0.8780487804878049                       | 0.8412698412698413                       | 0.96                                     | 0.9171974522292994                       | 0.9006349206349206                       |\n",
            "+---------------------+------------------------------------------+------------------------------------------+------------------------------------------+------------------------------------------+------------------------------------------+\n",
            "| Percentil 25        | 0.8414634146341463                       | 0.8059701492537313                       | 0.9450152207001522                       | 0.8903225806451612                       | 0.8763989174531093                       |\n",
            "+---------------------+------------------------------------------+------------------------------------------+------------------------------------------+------------------------------------------+------------------------------------------+\n",
            "| Percentil 75        | 0.8536585365853658                       | 0.8208955223880597                       | 0.9473684210526316                       | 0.8974358974358975                       | 0.8835985435553385                       |\n",
            "+---------------------+------------------------------------------+------------------------------------------+------------------------------------------+------------------------------------------+------------------------------------------+\n",
            "| IC 95%              | (0.8439674827673753, 0.8525488290811463) | (0.8088537475668595, 0.8182284980513469) | (0.9455686178675908, 0.9505078683277606) | (0.8923589421473951, 0.8983467727961655) | (0.8779836122763527, 0.8835957536304264) |\n",
            "+---------------------+------------------------------------------+------------------------------------------+------------------------------------------+------------------------------------------+------------------------------------------+\n"
          ]
        }
      ]
    },
    {
      "cell_type": "code",
      "source": [],
      "metadata": {
        "id": "ilDdBEwl1Khj"
      },
      "execution_count": null,
      "outputs": []
    }
  ]
}