{
  "nbformat": 4,
  "nbformat_minor": 0,
  "metadata": {
    "colab": {
      "provenance": []
    },
    "kernelspec": {
      "name": "python3",
      "display_name": "Python 3"
    },
    "language_info": {
      "name": "python"
    }
  },
  "cells": [
    {
      "cell_type": "markdown",
      "source": [
        "**ESTUDI ESTADISTIC PATCHES_THRESHOLDS**"
      ],
      "metadata": {
        "id": "6wyoekrybokk"
      }
    },
    {
      "cell_type": "code",
      "source": [
        "import pandas as pd\n",
        "\n",
        "\n",
        "csv_path = \"patches_thresholds.csv\"  # Asegúrate de que el nombre del archivo sea correcto\n",
        "data = pd.read_csv(csv_path)\n",
        "\n",
        "# Convertir la columna 'threshold' en una lista\n",
        "data_list = data['threshold'].tolist()\n",
        "\n",
        "# Imprimir la lista resultante\n",
        "print(data_list)"
      ],
      "metadata": {
        "colab": {
          "base_uri": "https://localhost:8080/"
        },
        "id": "EUWgmd8PbNQj",
        "outputId": "878225d2-0bf9-4cbe-a1cc-f4b9a9ddf988"
      },
      "execution_count": 25,
      "outputs": [
        {
          "output_type": "stream",
          "name": "stdout",
          "text": [
            "[95.0, 104.0, 104.0, 50.0, 104.0]\n"
          ]
        }
      ]
    },
    {
      "cell_type": "code",
      "execution_count": 26,
      "metadata": {
        "colab": {
          "base_uri": "https://localhost:8080/"
        },
        "id": "shWVoTf1aaG-",
        "outputId": "65b0d957-5d40-4eb5-e58a-43336d01a186"
      },
      "outputs": [
        {
          "output_type": "stream",
          "name": "stdout",
          "text": [
            "Media: 91.4\n",
            "Mediana: 104.0\n",
            "Desviacion_estandar: 23.469128658729534\n",
            "Varianza: 550.8\n",
            "Rango: 54.0\n",
            "Minimo: 50.0\n",
            "Maximo: 104.0\n",
            "Percentil_25: 95.0\n",
            "Percentil_50: 104.0\n",
            "Percentil_75: 104.0\n",
            "Intervalo_confianza: 70.83 a 111.97\n"
          ]
        }
      ],
      "source": [
        "import numpy as np\n",
        "from scipy.stats import norm\n",
        "\n",
        "def estudio_estadistico(valores, nivel_confianza=0.95):\n",
        "    \"\"\"\n",
        "    Realiza un estudio estadístico básico de una lista de valores.\n",
        "\n",
        "    :param valores: Lista de valores numéricos.\n",
        "    :param nivel_confianza: Nivel de confianza para el intervalo (por defecto 0.95).\n",
        "    :return: Diccionario con las métricas calculadas.\n",
        "    \"\"\"\n",
        "    if not valores:\n",
        "        return \"La lista está vacía. Proporcione valores válidos.\"\n",
        "\n",
        "    # Convertir a un array de numpy para facilidad de cálculo\n",
        "    valores_np = np.array(valores)\n",
        "\n",
        "    # Cálculos básicos\n",
        "    media = np.mean(valores_np)\n",
        "    std_dev = np.std(valores_np, ddof=1)  # ddof=1 para muestra\n",
        "    n = len(valores_np)\n",
        "\n",
        "    # Calcular el intervalo de confianza\n",
        "    z = norm.ppf(1 - (1 - nivel_confianza) / 2)  # Valor crítico z\n",
        "    margen_error = z * (std_dev / np.sqrt(n))\n",
        "    intervalo_confianza = (media - margen_error, media + margen_error)\n",
        "\n",
        "    # Cálculos estadísticos\n",
        "    estadisticas = {\n",
        "        'media': media,\n",
        "        'mediana': np.median(valores_np),\n",
        "        'desviacion_estandar': std_dev,\n",
        "        'varianza': np.var(valores_np, ddof=1),\n",
        "        'rango': np.ptp(valores_np),\n",
        "        'minimo': np.min(valores_np),\n",
        "        'maximo': np.max(valores_np),\n",
        "        'percentil_25': np.percentile(valores_np, 25),\n",
        "        'percentil_50': np.percentile(valores_np, 50),\n",
        "        'percentil_75': np.percentile(valores_np, 75),\n",
        "        'intervalo_confianza': intervalo_confianza\n",
        "    }\n",
        "\n",
        "    return estadisticas\n",
        "\n",
        "resultado = estudio_estadistico(data_list)\n",
        "\n",
        "# Mostrar el resultado\n",
        "for clave, valor in resultado.items():\n",
        "    if clave == 'intervalo_confianza':\n",
        "        print(f\"{clave.capitalize()}: {valor[0]:.2f} a {valor[1]:.2f}\")\n",
        "    else:\n",
        "        print(f\"{clave.capitalize()}: {valor}\")\n"
      ]
    },
    {
      "cell_type": "markdown",
      "source": [
        "**ESTUDI ESTADISTIC PATIENT_THRESHOLDS**"
      ],
      "metadata": {
        "id": "JBgaYvoucYcl"
      }
    },
    {
      "cell_type": "code",
      "source": [
        "import pandas as pd\n",
        "\n",
        "\n",
        "csv_path = \"patient_thresholds.csv\"  # Asegúrate de que el nombre del archivo sea correcto\n",
        "data = pd.read_csv(csv_path)\n",
        "\n",
        "# Convertir la columna 'threshold' en una lista\n",
        "data_list = data['threshold'].tolist()\n",
        "\n",
        "# Imprimir la lista resultante\n",
        "print(data_list)"
      ],
      "metadata": {
        "colab": {
          "base_uri": "https://localhost:8080/"
        },
        "id": "Bu0Tjl_zagw6",
        "outputId": "0bfe6c1d-2e0c-4f56-a965-a378aa8c3278"
      },
      "execution_count": 27,
      "outputs": [
        {
          "output_type": "stream",
          "name": "stdout",
          "text": [
            "[0.0845665961945031, 0.0972515856236786, 0.0972515856236786, 0.1775898520084566, 0.0739957716701902]\n"
          ]
        }
      ]
    },
    {
      "cell_type": "code",
      "source": [
        "import numpy as np\n",
        "from scipy.stats import norm\n",
        "\n",
        "def estudio_estadistico(valores, nivel_confianza=0.95):\n",
        "    \"\"\"\n",
        "    Realiza un estudio estadístico básico de una lista de valores.\n",
        "\n",
        "    :param valores: Lista de valores numéricos.\n",
        "    :param nivel_confianza: Nivel de confianza para el intervalo (por defecto 0.95).\n",
        "    :return: Diccionario con las métricas calculadas.\n",
        "    \"\"\"\n",
        "    if not valores:\n",
        "        return \"La lista está vacía. Proporcione valores válidos.\"\n",
        "\n",
        "    # Convertir a un array de numpy para facilidad de cálculo\n",
        "    valores_np = np.array(valores)\n",
        "\n",
        "    # Cálculos básicos\n",
        "    media = np.mean(valores_np)\n",
        "    std_dev = np.std(valores_np, ddof=1)  # ddof=1 para muestra\n",
        "    n = len(valores_np)\n",
        "\n",
        "    # Calcular el intervalo de confianza\n",
        "    z = norm.ppf(1 - (1 - nivel_confianza) / 2)  # Valor crítico z\n",
        "    margen_error = z * (std_dev / np.sqrt(n))\n",
        "    intervalo_confianza = (media - margen_error, media + margen_error)\n",
        "\n",
        "    # Cálculos estadísticos\n",
        "    estadisticas = {\n",
        "        'media': media,\n",
        "        'mediana': np.median(valores_np),\n",
        "        'desviacion_estandar': std_dev,\n",
        "        'varianza': np.var(valores_np, ddof=1),\n",
        "        'rango': np.ptp(valores_np),\n",
        "        'minimo': np.min(valores_np),\n",
        "        'maximo': np.max(valores_np),\n",
        "        'percentil_25': np.percentile(valores_np, 25),\n",
        "        'percentil_50': np.percentile(valores_np, 50),\n",
        "        'percentil_75': np.percentile(valores_np, 75),\n",
        "        'intervalo_confianza': intervalo_confianza\n",
        "    }\n",
        "\n",
        "    return estadisticas\n",
        "\n",
        "resultado = estudio_estadistico(data_list)\n",
        "\n",
        "# Mostrar el resultado\n",
        "for clave, valor in resultado.items():\n",
        "    if clave == 'intervalo_confianza':\n",
        "        print(f\"{clave.capitalize()}: {valor[0]:.2f} a {valor[1]:.2f}\")\n",
        "    else:\n",
        "        print(f\"{clave.capitalize()}: {valor}\")\n"
      ],
      "metadata": {
        "colab": {
          "base_uri": "https://localhost:8080/"
        },
        "id": "XVzdcpZ1cm5n",
        "outputId": "c6dd4df9-eaaa-439b-9b35-437ac3847809"
      },
      "execution_count": 28,
      "outputs": [
        {
          "output_type": "stream",
          "name": "stdout",
          "text": [
            "Media: 0.10613107822410142\n",
            "Mediana: 0.0972515856236786\n",
            "Desviacion_estandar: 0.041114936279180496\n",
            "Varianza: 0.0016904379852410727\n",
            "Rango: 0.10359408033826639\n",
            "Minimo: 0.0739957716701902\n",
            "Maximo: 0.1775898520084566\n",
            "Percentil_25: 0.0845665961945031\n",
            "Percentil_50: 0.0972515856236786\n",
            "Percentil_75: 0.0972515856236786\n",
            "Intervalo_confianza: 0.07 a 0.14\n"
          ]
        }
      ]
    },
    {
      "cell_type": "markdown",
      "source": [
        "**ESTUDI ESTADISTIC METRICS_TH1**"
      ],
      "metadata": {
        "id": "lypkhb05jz5N"
      }
    },
    {
      "cell_type": "code",
      "source": [
        "import pandas as pd\n",
        "\n",
        "csv_path = \"metrics_th1.csv\"  # Asegúrate de que el nombre del archivo sea correcto\n",
        "data = pd.read_csv(csv_path)\n",
        "data = data.drop(columns=['fold'])"
      ],
      "metadata": {
        "id": "UO_IQErZktIh"
      },
      "execution_count": 35,
      "outputs": []
    },
    {
      "cell_type": "code",
      "source": [
        "import pandas as pd\n",
        "import numpy as np\n",
        "from scipy.stats import norm\n",
        "from tabulate import tabulate\n",
        "\n",
        "def calcular_estadisticas(data, nivel_confianza=0.95):\n",
        "    \"\"\"\n",
        "    Calcula estadísticas básicas para todas las columnas numéricas de un DataFrame.\n",
        "\n",
        "    :param data: DataFrame con columnas numéricas.\n",
        "    :param nivel_confianza: Nivel de confianza para el intervalo (por defecto 0.95).\n",
        "    :return: DataFrame con las estadísticas por columna.\n",
        "    \"\"\"\n",
        "    resultados = {}\n",
        "    columnas_numericas = data.select_dtypes(include=[np.number]).columns\n",
        "\n",
        "    for columna in columnas_numericas:\n",
        "        valores = data[columna].dropna()  # Excluir valores NaN\n",
        "        media = np.mean(valores)\n",
        "        mediana = np.median(valores)\n",
        "        std_dev = np.std(valores, ddof=1)\n",
        "        varianza = np.var(valores, ddof=1)\n",
        "        rango = np.ptp(valores)\n",
        "        minimo = np.min(valores)\n",
        "        maximo = np.max(valores)\n",
        "        percentil_25 = np.percentile(valores, 25)\n",
        "        percentil_75 = np.percentile(valores, 75)\n",
        "\n",
        "        # Intervalo de confianza\n",
        "        n = len(valores)\n",
        "        z = norm.ppf(1 - (1 - nivel_confianza) / 2)\n",
        "        margen_error = z * (std_dev / np.sqrt(n))\n",
        "        intervalo_confianza = (media - margen_error, media + margen_error)\n",
        "\n",
        "        # Guardar resultados\n",
        "        resultados[columna] = {\n",
        "            'Media': media,\n",
        "            'Mediana': mediana,\n",
        "            'Desviación Estándar': std_dev,\n",
        "            'Varianza': varianza,\n",
        "            'Rango': rango,\n",
        "            'Mínimo': minimo,\n",
        "            'Máximo': maximo,\n",
        "            'Percentil 25': percentil_25,\n",
        "            'Percentil 75': percentil_75,\n",
        "            'IC 95%': intervalo_confianza,\n",
        "\n",
        "        }\n",
        "\n",
        "    return pd.DataFrame(resultados)\n",
        "\n",
        "# Calcular estadísticas para las columnas del archivo\n",
        "estadisticas = calcular_estadisticas(data)\n",
        "\n",
        "# Mostrar las estadísticas en formato tabla por pantalla\n",
        "print(tabulate(estadisticas, headers=\"keys\", tablefmt=\"grid\"))\n"
      ],
      "metadata": {
        "colab": {
          "base_uri": "https://localhost:8080/"
        },
        "id": "i8l9OTMMkOd-",
        "outputId": "cc204974-2532-48dd-b85d-67e2b53de0ab"
      },
      "execution_count": 37,
      "outputs": [
        {
          "output_type": "stream",
          "name": "stdout",
          "text": [
            "+---------------------+------------------------------------------+------------------------------------------+-----------------------------------------+------------------------------------------+-----------------------------------------+-----------------------------------------+-------------------------------------------+----------------------------------------+\n",
            "|                     | accuracy                                 | precision                                | recall                                  | f1_score                                 | tp                                      | tn                                      | fp                                        | fn                                     |\n",
            "+=====================+==========================================+==========================================+=========================================+==========================================+=========================================+=========================================+===========================================+========================================+\n",
            "| Media               | 0.802253380898596                        | 0.8054933790077985                       | 0.7829248816485659                      | 0.7798867448873521                       | 174.6                                   | 209.4                                   | 67.6                                      | 44.4                                   |\n",
            "+---------------------+------------------------------------------+------------------------------------------+-----------------------------------------+------------------------------------------+-----------------------------------------+-----------------------------------------+-------------------------------------------+----------------------------------------+\n",
            "| Mediana             | 0.8004115226337448                       | 0.8844884488448845                       | 0.7822222222222223                      | 0.8152173913043479                       | 176.0                                   | 213.0                                   | 35.0                                      | 37.0                                   |\n",
            "+---------------------+------------------------------------------+------------------------------------------+-----------------------------------------+------------------------------------------+-----------------------------------------+-----------------------------------------+-------------------------------------------+----------------------------------------+\n",
            "| Desviación Estándar | 0.08902643263589614                      | 0.17425151207390707                      | 0.05692379031748221                     | 0.07738350729389044                      | 86.03662011027629                       | 62.167515633166495                      | 97.41817078964273                         | 18.119050747762696                     |\n",
            "+---------------------+------------------------------------------+------------------------------------------+-----------------------------------------+------------------------------------------+-----------------------------------------+-----------------------------------------+-------------------------------------------+----------------------------------------+\n",
            "| Varianza            | 0.007925705707873754                     | 0.030363589460042983                     | 0.0032403179041086815                   | 0.005988207201103595                     | 7402.299999999999                       | 3864.8                                  | 9490.300000000001                         | 328.29999999999995                     |\n",
            "+---------------------+------------------------------------------+------------------------------------------+-----------------------------------------+------------------------------------------+-----------------------------------------+-----------------------------------------+-------------------------------------------+----------------------------------------+\n",
            "| Rango               | 0.22712418300653592                      | 0.43712219064841107                      | 0.1572420634920635                      | 0.1857635359996811                       | 193                                     | 142                                     | 235                                       | 44                                     |\n",
            "+---------------------+------------------------------------------+------------------------------------------+-----------------------------------------+------------------------------------------+-----------------------------------------+-----------------------------------------+-------------------------------------------+----------------------------------------+\n",
            "| Mínimo              | 0.6617647058823529                       | 0.5122448979591837                       | 0.7142857142857143                      | 0.6452442159383034                       | 75                                      | 147                                     | 4                                         | 30                                     |\n",
            "+---------------------+------------------------------------------+------------------------------------------+-----------------------------------------+------------------------------------------+-----------------------------------------+-----------------------------------------+-------------------------------------------+----------------------------------------+\n",
            "| Máximo              | 0.8888888888888888                       | 0.9493670886075948                       | 0.8715277777777778                      | 0.8310077519379845                       | 268                                     | 289                                     | 239                                       | 74                                     |\n",
            "+---------------------+------------------------------------------+------------------------------------------+-----------------------------------------+------------------------------------------+-----------------------------------------+-----------------------------------------+-------------------------------------------+----------------------------------------+\n",
            "| Percentil 25        | 0.7919847328244275                       | 0.7857142857142857                       | 0.762962962962963                       | 0.7839643652561247                       | 103.0                                   | 149.0                                   | 12.0                                      | 32.0                                   |\n",
            "+---------------------+------------------------------------------+------------------------------------------+-----------------------------------------+------------------------------------------+-----------------------------------------+-----------------------------------------+-------------------------------------------+----------------------------------------+\n",
            "| Percentil 75        | 0.8682170542635659                       | 0.8956521739130435                       | 0.783625730994152                       | 0.824                                    | 251.0                                   | 249.0                                   | 48.0                                      | 49.0                                   |\n",
            "+---------------------+------------------------------------------+------------------------------------------+-----------------------------------------+------------------------------------------+-----------------------------------------+-----------------------------------------+-------------------------------------------+----------------------------------------+\n",
            "| IC 95%              | (0.7242197059861104, 0.8802870558110816) | (0.6527580009454665, 0.9582287570701304) | (0.7330298963402377, 0.832819866956894) | (0.7120583564753848, 0.8477151332993194) | (99.18696315831842, 250.01303684168158) | (154.90877125588256, 263.8912287441174) | (-17.789222558860985, 152.98922255886097) | (28.51824360573503, 60.28175639426497) |\n",
            "+---------------------+------------------------------------------+------------------------------------------+-----------------------------------------+------------------------------------------+-----------------------------------------+-----------------------------------------+-------------------------------------------+----------------------------------------+\n"
          ]
        }
      ]
    },
    {
      "cell_type": "markdown",
      "source": [
        "**ESTUDI ESTADISTIC METRICS_TH1_TRAIN**"
      ],
      "metadata": {
        "id": "WQcscywYl6Bt"
      }
    },
    {
      "cell_type": "code",
      "source": [
        "import pandas as pd\n",
        "\n",
        "csv_path = \"metrics_th1_train.csv\"  # Asegúrate de que el nombre del archivo sea correcto\n",
        "data = pd.read_csv(csv_path)\n",
        "data = data.drop(columns=['fold'])"
      ],
      "metadata": {
        "id": "50-qaXgvkj_1"
      },
      "execution_count": 38,
      "outputs": []
    },
    {
      "cell_type": "code",
      "source": [
        "import pandas as pd\n",
        "import numpy as np\n",
        "from scipy.stats import norm\n",
        "from tabulate import tabulate\n",
        "\n",
        "def calcular_estadisticas(data, nivel_confianza=0.95):\n",
        "    \"\"\"\n",
        "    Calcula estadísticas básicas para todas las columnas numéricas de un DataFrame.\n",
        "\n",
        "    :param data: DataFrame con columnas numéricas.\n",
        "    :param nivel_confianza: Nivel de confianza para el intervalo (por defecto 0.95).\n",
        "    :return: DataFrame con las estadísticas por columna.\n",
        "    \"\"\"\n",
        "    resultados = {}\n",
        "    columnas_numericas = data.select_dtypes(include=[np.number]).columns\n",
        "\n",
        "    for columna in columnas_numericas:\n",
        "        valores = data[columna].dropna()  # Excluir valores NaN\n",
        "        media = np.mean(valores)\n",
        "        mediana = np.median(valores)\n",
        "        std_dev = np.std(valores, ddof=1)\n",
        "        varianza = np.var(valores, ddof=1)\n",
        "        rango = np.ptp(valores)\n",
        "        minimo = np.min(valores)\n",
        "        maximo = np.max(valores)\n",
        "        percentil_25 = np.percentile(valores, 25)\n",
        "        percentil_75 = np.percentile(valores, 75)\n",
        "\n",
        "        # Intervalo de confianza\n",
        "        n = len(valores)\n",
        "        z = norm.ppf(1 - (1 - nivel_confianza) / 2)\n",
        "        margen_error = z * (std_dev / np.sqrt(n))\n",
        "        intervalo_confianza = (media - margen_error, media + margen_error)\n",
        "\n",
        "        # Guardar resultados\n",
        "        resultados[columna] = {\n",
        "            'Media': media,\n",
        "            'Mediana': mediana,\n",
        "            'Desviación Estándar': std_dev,\n",
        "            'Varianza': varianza,\n",
        "            'Rango': rango,\n",
        "            'Mínimo': minimo,\n",
        "            'Máximo': maximo,\n",
        "            'Percentil 25': percentil_25,\n",
        "            'Percentil 75': percentil_75,\n",
        "            'IC 95%': intervalo_confianza,\n",
        "\n",
        "        }\n",
        "\n",
        "    return pd.DataFrame(resultados)\n",
        "\n",
        "# Calcular estadísticas para las columnas del archivo\n",
        "estadisticas = calcular_estadisticas(data)\n",
        "\n",
        "# Mostrar las estadísticas en formato tabla por pantalla\n",
        "print(tabulate(estadisticas, headers=\"keys\", tablefmt=\"grid\"))"
      ],
      "metadata": {
        "colab": {
          "base_uri": "https://localhost:8080/"
        },
        "id": "PulRnlN_mCwl",
        "outputId": "0d9cb3c9-8325-4a23-f4bd-5122d4f0225b"
      },
      "execution_count": 39,
      "outputs": [
        {
          "output_type": "stream",
          "name": "stdout",
          "text": [
            "+---------------------+------------------------------------------+-----------------------------------------+------------------------------------------+------------------------------------------+----------------------------------------+----------------------------------------+------------------------------------------+----------------------------------------+\n",
            "|                     | accuracy                                 | precision                               | recall                                   | f1_score                                 | tp                                     | tn                                     | fp                                       | fn                                     |\n",
            "+=====================+==========================================+=========================================+==========================================+==========================================+========================================+========================================+==========================================+========================================+\n",
            "| Media               | 0.8212452743049262                       | 0.8353058929979345                      | 0.8519680670774173                       | 0.8434514255955105                       | 1055.6                                 | 730.4                                  | 208.6                                    | 185.4                                  |\n",
            "+---------------------+------------------------------------------+-----------------------------------------+------------------------------------------+------------------------------------------+----------------------------------------+----------------------------------------+------------------------------------------+----------------------------------------+\n",
            "| Mediana             | 0.8141552511415525                       | 0.8244561140285072                      | 0.8317343173431734                       | 0.8296296296296296                       | 1074.0                                 | 757.0                                  | 225.0                                    | 209.0                                  |\n",
            "+---------------------+------------------------------------------+-----------------------------------------+------------------------------------------+------------------------------------------+----------------------------------------+----------------------------------------+------------------------------------------+----------------------------------------+\n",
            "| Desviación Estándar | 0.028277359413252347                     | 0.027982326430730925                    | 0.03713478393519612                      | 0.031053295887696786                     | 68.79171461738689                      | 111.72197635201411                     | 39.73411632338134                        | 54.852529567924215                     |\n",
            "+---------------------+------------------------------------------+-----------------------------------------+------------------------------------------+------------------------------------------+----------------------------------------+----------------------------------------+------------------------------------------+----------------------------------------+\n",
            "| Varianza            | 0.0007996090553862512                    | 0.0007830105924759824                   | 0.0013789921779137                       | 0.000964307185488846                     | 4732.3                                 | 12481.8                                | 1578.8                                   | 3008.8                                 |\n",
            "+---------------------+------------------------------------------+-----------------------------------------+------------------------------------------+------------------------------------------+----------------------------------------+----------------------------------------+------------------------------------------+----------------------------------------+\n",
            "| Rango               | 0.0716468590831918                       | 0.07293737522548349                     | 0.08694829029557594                      | 0.07180722284663654                      | 175                                    | 277                                    | 98                                       | 130                                    |\n",
            "+---------------------+------------------------------------------+-----------------------------------------+------------------------------------------+------------------------------------------+----------------------------------------+----------------------------------------+------------------------------------------+----------------------------------------+\n",
            "| Mínimo              | 0.7982456140350878                       | 0.8088360237892949                      | 0.8294339622641509                       | 0.8269375470278404                       | 952                                    | 544                                    | 144                                      | 98                                     |\n",
            "+---------------------+------------------------------------------+-----------------------------------------+------------------------------------------+------------------------------------------+----------------------------------------+----------------------------------------+------------------------------------------+----------------------------------------+\n",
            "| Máximo              | 0.8698924731182796                       | 0.8817733990147784                      | 0.9163822525597268                       | 0.8987447698744769                       | 1127                                   | 821                                    | 242                                      | 228                                    |\n",
            "+---------------------+------------------------------------------+-----------------------------------------+------------------------------------------+------------------------------------------+----------------------------------------+----------------------------------------+------------------------------------------+----------------------------------------+\n",
            "| Percentil 25        | 0.8056244830438379                       | 0.8232286340394448                      | 0.8307692307692308                       | 0.8274596182085168                       | 1026.0                                 | 721.0                                  | 198.0                                    | 166.0                                  |\n",
            "+---------------------+------------------------------------------+-----------------------------------------+------------------------------------------+------------------------------------------+----------------------------------------+----------------------------------------+------------------------------------------+----------------------------------------+\n",
            "| Percentil 75        | 0.8183085501858736                       | 0.8382352941176471                      | 0.851520572450805                        | 0.8344855632370883                       | 1099.0                                 | 809.0                                  | 234.0                                    | 226.0                                  |\n",
            "+---------------------+------------------------------------------+-----------------------------------------+------------------------------------------+------------------------------------------+----------------------------------------+----------------------------------------+------------------------------------------+----------------------------------------+\n",
            "| IC 95%              | (0.7964595313912252, 0.8460310172186273) | (0.8107787531436269, 0.859833032852242) | (0.8194185919187769, 0.8845175422360578) | (0.8162325117907502, 0.8706703394002707) | (995.3025115329488, 1115.897488467051) | (632.4731694496958, 828.3268305503042) | (173.77215141266436, 243.42784858733563) | (137.32052142607102, 233.479478573929) |\n",
            "+---------------------+------------------------------------------+-----------------------------------------+------------------------------------------+------------------------------------------+----------------------------------------+----------------------------------------+------------------------------------------+----------------------------------------+\n"
          ]
        }
      ]
    },
    {
      "cell_type": "markdown",
      "source": [
        "**ESTUDI ESTADISTIC METRICS_TH2**"
      ],
      "metadata": {
        "id": "d-kNLhCDmMe_"
      }
    },
    {
      "cell_type": "code",
      "source": [
        "import pandas as pd\n",
        "\n",
        "csv_path = \"metrics_th2.csv\"  # Asegúrate de que el nombre del archivo sea correcto\n",
        "data = pd.read_csv(csv_path)\n",
        "data = data.drop(columns=['fold'])"
      ],
      "metadata": {
        "id": "p_E8oqV7mHry"
      },
      "execution_count": 42,
      "outputs": []
    },
    {
      "cell_type": "code",
      "source": [
        "import pandas as pd\n",
        "import numpy as np\n",
        "from scipy.stats import norm\n",
        "from tabulate import tabulate\n",
        "\n",
        "def calcular_estadisticas(data, nivel_confianza=0.95):\n",
        "    \"\"\"\n",
        "    Calcula estadísticas básicas para todas las columnas numéricas de un DataFrame.\n",
        "\n",
        "    :param data: DataFrame con columnas numéricas.\n",
        "    :param nivel_confianza: Nivel de confianza para el intervalo (por defecto 0.95).\n",
        "    :return: DataFrame con las estadísticas por columna.\n",
        "    \"\"\"\n",
        "    resultados = {}\n",
        "    columnas_numericas = data.select_dtypes(include=[np.number]).columns\n",
        "\n",
        "    for columna in columnas_numericas:\n",
        "        valores = data[columna].dropna()  # Excluir valores NaN\n",
        "        media = np.mean(valores)\n",
        "        mediana = np.median(valores)\n",
        "        std_dev = np.std(valores, ddof=1)\n",
        "        varianza = np.var(valores, ddof=1)\n",
        "        rango = np.ptp(valores)\n",
        "        minimo = np.min(valores)\n",
        "        maximo = np.max(valores)\n",
        "        percentil_25 = np.percentile(valores, 25)\n",
        "        percentil_75 = np.percentile(valores, 75)\n",
        "\n",
        "        # Intervalo de confianza\n",
        "        n = len(valores)\n",
        "        z = norm.ppf(1 - (1 - nivel_confianza) / 2)\n",
        "        margen_error = z * (std_dev / np.sqrt(n))\n",
        "        intervalo_confianza = (media - margen_error, media + margen_error)\n",
        "\n",
        "        # Guardar resultados\n",
        "        resultados[columna] = {\n",
        "            'Media': media,\n",
        "            'Mediana': mediana,\n",
        "            'Desviación Estándar': std_dev,\n",
        "            'Varianza': varianza,\n",
        "            'Rango': rango,\n",
        "            'Mínimo': minimo,\n",
        "            'Máximo': maximo,\n",
        "            'Percentil 25': percentil_25,\n",
        "            'Percentil 75': percentil_75,\n",
        "            'IC 95%': intervalo_confianza,\n",
        "\n",
        "        }\n",
        "\n",
        "    return pd.DataFrame(resultados)\n",
        "\n",
        "# Calcular estadísticas para las columnas del archivo\n",
        "estadisticas = calcular_estadisticas(data)\n",
        "\n",
        "# Mostrar las estadísticas en formato tabla por pantalla\n",
        "print(tabulate(estadisticas, headers=\"keys\", tablefmt=\"grid\"))"
      ],
      "metadata": {
        "colab": {
          "base_uri": "https://localhost:8080/"
        },
        "id": "8fGkU53smY6_",
        "outputId": "63e4a06c-6168-4ef4-feb2-ef49b70c4753"
      },
      "execution_count": 43,
      "outputs": [
        {
          "output_type": "stream",
          "name": "stdout",
          "text": [
            "+---------------------+-------------------------------------------+-------------------------------------------+-------------------------------------------+-------------------------------------------+----------------------------------------+-----------------------------------------+------------------------------------------+----------------------------------------+\n",
            "|                     | accuracy                                  | precision                                 | recall                                    | f1_score                                  | tp                                     | tn                                      | fp                                       | fn                                     |\n",
            "+=====================+===========================================+===========================================+===========================================+===========================================+========================================+=========================================+==========================================+========================================+\n",
            "| Media               | 0.5225806451612904                        | 0.4502564102564103                        | 0.48250000000000004                       | 0.46477252299283656                       | 6.8                                    | 9.4                                     | 8.0                                      | 6.8                                    |\n",
            "+---------------------+-------------------------------------------+-------------------------------------------+-------------------------------------------+-------------------------------------------+----------------------------------------+-----------------------------------------+------------------------------------------+----------------------------------------+\n",
            "| Mediana             | 0.5161290322580645                        | 0.3846153846153846                        | 0.4166666666666667                        | 0.4                                       | 6.0                                    | 11.0                                    | 8.0                                      | 6.0                                    |\n",
            "+---------------------+-------------------------------------------+-------------------------------------------+-------------------------------------------+-------------------------------------------+----------------------------------------+-----------------------------------------+------------------------------------------+----------------------------------------+\n",
            "| Desviación Estándar | 0.15198992244373866                       | 0.17547343679798447                       | 0.15327444521366096                       | 0.16231580005634685                       | 3.1937438845342627                     | 4.560701700396552                       | 2.9154759474226504                       | 1.9235384061671346                     |\n",
            "+---------------------+-------------------------------------------+-------------------------------------------+-------------------------------------------+-------------------------------------------+----------------------------------------+-----------------------------------------+------------------------------------------+----------------------------------------+\n",
            "| Varianza            | 0.023100936524453695                      | 0.030790927021696245                      | 0.023493055555555555                      | 0.026346418947931972                      | 10.200000000000001                     | 20.8                                    | 8.5                                      | 3.7000000000000006                     |\n",
            "+---------------------+-------------------------------------------+-------------------------------------------+-------------------------------------------+-------------------------------------------+----------------------------------------+-----------------------------------------+------------------------------------------+----------------------------------------+\n",
            "| Rango               | 0.41935483870967744                       | 0.4333333333333333                        | 0.3541666666666667                        | 0.3938879456706281                        | 8                                      | 12                                      | 8                                        | 5                                      |\n",
            "+---------------------+-------------------------------------------+-------------------------------------------+-------------------------------------------+-------------------------------------------+----------------------------------------+-----------------------------------------+------------------------------------------+----------------------------------------+\n",
            "| Mínimo              | 0.2903225806451613                        | 0.3                                       | 0.3333333333333333                        | 0.3157894736842105                        | 3                                      | 3                                       | 4                                        | 5                                      |\n",
            "+---------------------+-------------------------------------------+-------------------------------------------+-------------------------------------------+-------------------------------------------+----------------------------------------+-----------------------------------------+------------------------------------------+----------------------------------------+\n",
            "| Máximo              | 0.7096774193548387                        | 0.7333333333333333                        | 0.6875                                    | 0.7096774193548386                        | 11                                     | 15                                      | 12                                       | 10                                     |\n",
            "+---------------------+-------------------------------------------+-------------------------------------------+-------------------------------------------+-------------------------------------------+----------------------------------------+-----------------------------------------+------------------------------------------+----------------------------------------+\n",
            "| Percentil 25        | 0.5161290322580645                        | 0.3333333333333333                        | 0.375                                     | 0.3529411764705882                        | 5.0                                    | 7.0                                     | 7.0                                      | 6.0                                    |\n",
            "+---------------------+-------------------------------------------+-------------------------------------------+-------------------------------------------+-------------------------------------------+----------------------------------------+-----------------------------------------+------------------------------------------+----------------------------------------+\n",
            "| Percentil 75        | 0.5806451612903226                        | 0.5                                       | 0.6                                       | 0.5454545454545454                        | 9.0                                    | 11.0                                    | 9.0                                      | 7.0                                    |\n",
            "+---------------------+-------------------------------------------+-------------------------------------------+-------------------------------------------+-------------------------------------------+----------------------------------------+-----------------------------------------+------------------------------------------+----------------------------------------+\n",
            "| IC 95%              | (0.38935805219886704, 0.6558032381237138) | (0.29644998763053676, 0.6040628328822838) | (0.34815149387585587, 0.6168485061241442) | (0.32249906555172697, 0.6070459804339461) | (4.000611496377108, 9.599388503622892) | (5.402442158756479, 13.397557841243522) | (5.4445196155751825, 10.555480384424818) | (5.113975229329755, 8.486024770670245) |\n",
            "+---------------------+-------------------------------------------+-------------------------------------------+-------------------------------------------+-------------------------------------------+----------------------------------------+-----------------------------------------+------------------------------------------+----------------------------------------+\n"
          ]
        }
      ]
    },
    {
      "cell_type": "markdown",
      "source": [
        "**ESTUDI ESTADISTIC METRICS_TH2_TRAIN**"
      ],
      "metadata": {
        "id": "5jL7pobFmL2O"
      }
    },
    {
      "cell_type": "code",
      "source": [
        "import pandas as pd\n",
        "\n",
        "csv_path = \"metrics_th2_train.csv\"  # Asegúrate de que el nombre del archivo sea correcto\n",
        "data = pd.read_csv(csv_path)\n",
        "data = data.drop(columns=['fold'])"
      ],
      "metadata": {
        "id": "JXKNzEkCmR0x"
      },
      "execution_count": 44,
      "outputs": []
    },
    {
      "cell_type": "code",
      "source": [
        "import pandas as pd\n",
        "import numpy as np\n",
        "from scipy.stats import norm\n",
        "from tabulate import tabulate\n",
        "\n",
        "def calcular_estadisticas(data, nivel_confianza=0.95):\n",
        "    \"\"\"\n",
        "    Calcula estadísticas básicas para todas las columnas numéricas de un DataFrame.\n",
        "\n",
        "    :param data: DataFrame con columnas numéricas.\n",
        "    :param nivel_confianza: Nivel de confianza para el intervalo (por defecto 0.95).\n",
        "    :return: DataFrame con las estadísticas por columna.\n",
        "    \"\"\"\n",
        "    resultados = {}\n",
        "    columnas_numericas = data.select_dtypes(include=[np.number]).columns\n",
        "\n",
        "    for columna in columnas_numericas:\n",
        "        valores = data[columna].dropna()  # Excluir valores NaN\n",
        "        media = np.mean(valores)\n",
        "        mediana = np.median(valores)\n",
        "        std_dev = np.std(valores, ddof=1)\n",
        "        varianza = np.var(valores, ddof=1)\n",
        "        rango = np.ptp(valores)\n",
        "        minimo = np.min(valores)\n",
        "        maximo = np.max(valores)\n",
        "        percentil_25 = np.percentile(valores, 25)\n",
        "        percentil_75 = np.percentile(valores, 75)\n",
        "\n",
        "        # Intervalo de confianza\n",
        "        n = len(valores)\n",
        "        z = norm.ppf(1 - (1 - nivel_confianza) / 2)\n",
        "        margen_error = z * (std_dev / np.sqrt(n))\n",
        "        intervalo_confianza = (media - margen_error, media + margen_error)\n",
        "\n",
        "        # Guardar resultados\n",
        "        resultados[columna] = {\n",
        "            'Media': media,\n",
        "            'Mediana': mediana,\n",
        "            'Desviación Estándar': std_dev,\n",
        "            'Varianza': varianza,\n",
        "            'Rango': rango,\n",
        "            'Mínimo': minimo,\n",
        "            'Máximo': maximo,\n",
        "            'Percentil 25': percentil_25,\n",
        "            'Percentil 75': percentil_75,\n",
        "            'IC 95%': intervalo_confianza,\n",
        "\n",
        "        }\n",
        "\n",
        "    return pd.DataFrame(resultados)\n",
        "\n",
        "# Calcular estadísticas para las columnas del archivo\n",
        "estadisticas = calcular_estadisticas(data)\n",
        "\n",
        "# Mostrar las estadísticas en formato tabla por pantalla\n",
        "print(tabulate(estadisticas, headers=\"keys\", tablefmt=\"grid\"))"
      ],
      "metadata": {
        "colab": {
          "base_uri": "https://localhost:8080/"
        },
        "id": "DujlYI16mZ6d",
        "outputId": "3db9f32a-1046-4dbb-9315-09fd40ae57ff"
      },
      "execution_count": 45,
      "outputs": [
        {
          "output_type": "stream",
          "name": "stdout",
          "text": [
            "+---------------------+-------------------------------------------+------------------------------------------+------------------------------------------+------------------------------------------+-----------------------------------------+------------------------------------------+-----------------------------------------+-----------------------------------------+\n",
            "|                     | accuracy                                  | precision                                | recall                                   | f1_score                                 | tp                                      | tn                                       | fp                                      | fn                                      |\n",
            "+=====================+===========================================+==========================================+==========================================+==========================================+=========================================+==========================================+=========================================+=========================================+\n",
            "| Media               | 0.4991869918699187                        | 0.518887379609378                        | 0.5707611073669979                       | 0.5435544024077167                       | 36.8                                    | 24.6                                     | 34.0                                    | 27.6                                    |\n",
            "+---------------------+-------------------------------------------+------------------------------------------+------------------------------------------+------------------------------------------+-----------------------------------------+------------------------------------------+-----------------------------------------+-----------------------------------------+\n",
            "| Mediana             | 0.4878048780487805                        | 0.5                                      | 0.5396825396825397                       | 0.5190839694656489                       | 34.0                                    | 25.0                                     | 34.0                                    | 29.0                                    |\n",
            "+---------------------+-------------------------------------------+------------------------------------------+------------------------------------------+------------------------------------------+-----------------------------------------+------------------------------------------+-----------------------------------------+-----------------------------------------+\n",
            "| Desviación Estándar | 0.062076777784783994                      | 0.05671720684830856                      | 0.06530055194452294                      | 0.06051740330832788                      | 5.019960159204453                       | 4.722287581247038                        | 3.6742346141747673                      | 4.03732584763727                        |\n",
            "+---------------------+-------------------------------------------+------------------------------------------+------------------------------------------+------------------------------------------+-----------------------------------------+------------------------------------------+-----------------------------------------+-----------------------------------------+\n",
            "| Varianza            | 0.003853526340141452                      | 0.0032168415526738197                    | 0.004264162084259338                     | 0.0036623561031828146                    | 25.200000000000003                      | 22.299999999999997                       | 13.5                                    | 16.3                                    |\n",
            "+---------------------+-------------------------------------------+------------------------------------------+------------------------------------------+------------------------------------------+-----------------------------------------+------------------------------------------+-----------------------------------------+-----------------------------------------+\n",
            "| Rango               | 0.15447154471544722                       | 0.12091324200913245                      | 0.1300097751710655                       | 0.12190247801758597                      | 12                                      | 13                                       | 9                                       | 10                                      |\n",
            "+---------------------+-------------------------------------------+------------------------------------------+------------------------------------------+------------------------------------------+-----------------------------------------+------------------------------------------+-----------------------------------------+-----------------------------------------+\n",
            "| Mínimo              | 0.4227642276422764                        | 0.4657534246575342                       | 0.5151515151515151                       | 0.4892086330935251                       | 32                                      | 18                                       | 30                                      | 22                                      |\n",
            "+---------------------+-------------------------------------------+------------------------------------------+------------------------------------------+------------------------------------------+-----------------------------------------+------------------------------------------+-----------------------------------------+-----------------------------------------+\n",
            "| Máximo              | 0.5772357723577236                        | 0.5866666666666667                       | 0.6451612903225806                       | 0.611111111111111                        | 44                                      | 31                                       | 39                                      | 32                                      |\n",
            "+---------------------+-------------------------------------------+------------------------------------------+------------------------------------------+------------------------------------------+-----------------------------------------+------------------------------------------+-----------------------------------------+-----------------------------------------+\n",
            "| Percentil 25        | 0.4634146341463415                        | 0.4705882352941176                       | 0.5161290322580645                       | 0.4923076923076923                       | 34.0                                    | 23.0                                     | 31.0                                    | 25.0                                    |\n",
            "+---------------------+-------------------------------------------+------------------------------------------+------------------------------------------+------------------------------------------+-----------------------------------------+------------------------------------------+-----------------------------------------+-----------------------------------------+\n",
            "| Percentil 75        | 0.5447154471544715                        | 0.5714285714285714                       | 0.6376811594202898                       | 0.606060606060606                        | 40.0                                    | 26.0                                     | 36.0                                    | 30.0                                    |\n",
            "+---------------------+-------------------------------------------+------------------------------------------+------------------------------------------+------------------------------------------+-----------------------------------------+------------------------------------------+-----------------------------------------+-----------------------------------------+\n",
            "| IC 95%              | (0.44477529689519196, 0.5535986868446455) | (0.46917346936829113, 0.568601289850465) | (0.5135237016755316, 0.6279985130584642) | (0.4905095343108035, 0.5965992705046299) | (32.39989176766089, 41.200108232339105) | (20.460808491952108, 28.739191508047895) | (30.779450541309117, 37.22054945869088) | (24.06119289089348, 31.138807109106523) |\n",
            "+---------------------+-------------------------------------------+------------------------------------------+------------------------------------------+------------------------------------------+-----------------------------------------+------------------------------------------+-----------------------------------------+-----------------------------------------+\n"
          ]
        }
      ]
    }
  ]
}