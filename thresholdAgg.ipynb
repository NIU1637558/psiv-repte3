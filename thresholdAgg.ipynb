{
 "cells": [
  {
   "cell_type": "markdown",
   "metadata": {
    "id": "TThJUYZ9S5fH"
   },
   "source": [
    "### REPTE 3: Threshold Aggregation\n"
   ]
  },
  {
   "cell_type": "code",
   "execution_count": 8,
   "metadata": {
    "id": "AKMBU4RikXGk"
   },
   "outputs": [],
   "source": [
    "import pandas as pd\n",
    "import numpy as np\n",
    "import cv2\n",
    "import os\n",
    "import glob\n",
    "import random\n",
    "import os\n",
    "import glob\n",
    "import random\n",
    "import numpy as np\n",
    "import pandas as pd\n",
    "from PIL import Image\n",
    "import torch\n",
    "from torch.utils.data import Dataset, DataLoader\n",
    "import torch.utils.data as data\n",
    "import torchvision.transforms as transforms\n",
    "import math\n",
    "import itertools\n",
    "from torch import nn as nn\n",
    "import torch.nn.functional as F\n",
    "from torch import Tensor\n",
    "from numpy.matlib import repmat\n",
    "import torch.optim as optim\n",
    "from collections import OrderedDict\n",
    "import cv2\n",
    "import wandb\n",
    "import matplotlib.pyplot as plt\n",
    "from PIL import Image, ImageEnhance\n",
    "# save dicts to csv\n",
    "import csv"
   ]
  },
  {
   "cell_type": "code",
   "execution_count": 2,
   "metadata": {},
   "outputs": [
    {
     "name": "stdout",
     "output_type": "stream",
     "text": [
      "La media de los valores en la columna 'threshold' es: 107.4\n",
      "La media de los valores en la columna 'threshold' es: 0.20999999999999996\n"
     ]
    }
   ],
   "source": [
    "import pandas as pd\n",
    "\n",
    "# Cargar el CSV\n",
    "csv_path = \"patches_thresholds.csv\"  # Asegúrate de que el nombre del archivo sea correcto\n",
    "data = pd.read_csv(csv_path)\n",
    "\n",
    "# Calcular la media de la columna 'threshold'\n",
    "patches_mean_threshold = data['threshold'].mean()\n",
    "\n",
    "print(f\"La media de los valores en la columna 'threshold' es: {patches_mean_threshold}\")\n",
    "\n",
    "# Cargar el CSV\n",
    "csv_path = \"patient_thresholds.csv\"  # Asegúrate de que el nombre del archivo sea correcto\n",
    "data = pd.read_csv(csv_path)\n",
    "\n",
    "# Calcular la media de la columna 'threshold'\n",
    "patient_mean_threshold = data['threshold'].mean()\n",
    "\n",
    "print(f\"La media de los valores en la columna 'threshold' es: {patient_mean_threshold}\")\n"
   ]
  },
  {
   "cell_type": "code",
   "execution_count": 1,
   "metadata": {},
   "outputs": [
    {
     "name": "stdout",
     "output_type": "stream",
     "text": [
      "La media ponderada de los thresholds en 'patches_thresholds.csv' es: 107.3081\n",
      "La media ponderada de los thresholds en 'patient_thresholds.csv' es: 0.2142\n"
     ]
    }
   ],
   "source": [
    "import pandas as pd\n",
    "\n",
    "# Función para calcular la media ponderada\n",
    "def weighted_mean(data, value_column, weight_column):\n",
    "    weighted_sum = (data[value_column] * data[weight_column]).sum()\n",
    "    total_weight = data[weight_column].sum()\n",
    "    return weighted_sum / total_weight\n",
    "\n",
    "# Rutas de los archivos\n",
    "patches_csv_path = \"patches_thresholds.csv\"\n",
    "patients_csv_path = \"patient_thresholds.csv\"\n",
    "metrics_patches_path = \"metrics_th1.csv\"\n",
    "metrics_patients_path = \"metrics_th2.csv\"\n",
    "\n",
    "# Leer los archivos de thresholds\n",
    "patches_data = pd.read_csv(patches_csv_path)\n",
    "patients_data = pd.read_csv(patients_csv_path)\n",
    "\n",
    "# Leer los archivos de métricas\n",
    "metrics_patches = pd.read_csv(metrics_patches_path)\n",
    "metrics_patients = pd.read_csv(metrics_patients_path)\n",
    "\n",
    "# Verificar que existan las columnas necesarias\n",
    "required_columns_thresholds = {'fold', 'threshold'}\n",
    "required_columns_metrics = {'fold', 'recall'}\n",
    "if not required_columns_thresholds.issubset(patches_data.columns) or not required_columns_thresholds.issubset(patients_data.columns):\n",
    "    raise ValueError(f\"Los CSV de thresholds deben contener las columnas: {required_columns_thresholds}\")\n",
    "if not required_columns_metrics.issubset(metrics_patches.columns) or not required_columns_metrics.issubset(metrics_patients.columns):\n",
    "    raise ValueError(f\"Los CSV de métricas deben contener las columnas: {required_columns_metrics}\")\n",
    "\n",
    "# Combinar datos de thresholds con sus respectivas métricas usando la columna 'fold' como clave\n",
    "patches_combined = pd.merge(patches_data, metrics_patches, on='fold', how='inner')\n",
    "patients_combined = pd.merge(patients_data, metrics_patients, on='fold', how='inner')\n",
    "\n",
    "# Calcular la media ponderada para cada conjunto de datos\n",
    "patches_weighted_mean = weighted_mean(patches_combined, 'threshold', 'recall')\n",
    "patients_weighted_mean = weighted_mean(patients_combined, 'threshold', 'recall')\n",
    "\n",
    "# Imprimir los resultados\n",
    "print(f\"La media ponderada de los thresholds en 'patches_thresholds.csv' es: {patches_weighted_mean:.4f}\")\n",
    "print(f\"La media ponderada de los thresholds en 'patient_thresholds.csv' es: {patients_weighted_mean:.4f}\")\n"
   ]
  },
  {
   "cell_type": "code",
   "execution_count": 38,
   "metadata": {},
   "outputs": [],
   "source": [
    "import pandas as pd\n",
    "import numpy as np\n",
    "\n",
    "\n",
    "def calcular_media(data):\n",
    "    return data['threshold'].mean()\n",
    "\n",
    "def calcular_mediana(data):\n",
    "    return data['threshold'].median()\n",
    "\n",
    "def calcular_desviacion_estandar(data):\n",
    "    return data['threshold'].std()\n",
    "\n",
    "def calcular_minimo(data):\n",
    "    return data['threshold'].min()\n",
    "\n",
    "def calcular_maximo(data):\n",
    "    return data['threshold'].max()\n",
    "\n",
    "def calcular_cuartiles(data):\n",
    "    q1 = data['threshold'].quantile(0.25)\n",
    "    q3 = data['threshold'].quantile(0.75)\n",
    "    return q1, q3\n",
    "\n",
    "def calcular_varianza(data):\n",
    "    return data['threshold'].var()\n",
    "\n",
    "def resumen_descriptivo(data):\n",
    "    return data['threshold'].describe()\n",
    "\n",
    "def normalizar(data):\n",
    "    min_val = data['threshold'].min()\n",
    "    max_val = data['threshold'].max()\n",
    "    data['normalized_threshold'] = (data['threshold'] - min_val) / (max_val - min_val)\n",
    "    return data\n",
    "\n",
    "def calcular_embedding(data):\n",
    "    return np.mean(data['threshold'].values)"
   ]
  },
  {
   "cell_type": "code",
   "execution_count": 39,
   "metadata": {},
   "outputs": [
    {
     "name": "stdout",
     "output_type": "stream",
     "text": [
      "Media: 107.4\n",
      "Mediana: 107.0\n",
      "Minimo: 101\n",
      "Maximo: 113\n",
      "Cuartiles: Q1=104.0, Q3=112.0\n",
      "107.4\n"
     ]
    }
   ],
   "source": [
    "data = pd.read_csv('patches_thresholds.csv')\n",
    "\n",
    "media = calcular_media(data)\n",
    "mediana = calcular_mediana(data)\n",
    "std_dev = calcular_desviacion_estandar(data)\n",
    "q1, q3 = calcular_cuartiles(data)\n",
    "varianza = calcular_varianza(data)\n",
    "normalizado = normalizar(data)\n",
    "embedding = calcular_embedding(data)\n",
    "minimo = calcular_minimo(data)\n",
    "maximo = calcular_maximo(data)\n",
    "\n",
    "print(f\"Media: {media}\")\n",
    "print(f\"Mediana: {mediana}\")\n",
    "print(f\"Minimo: {minimo}\")\n",
    "print(f\"Maximo: {maximo}\")\n",
    "#print(f\"Desviación estándar: {std_dev}\")\n",
    "print(f\"Cuartiles: Q1={q1}, Q3={q3}\")\n",
    "#print(f\"Varianza: {varianza}\")\n",
    "#print(\"Datos normalizados:\")\n",
    "#print(normalizado)\n",
    "print(embedding)\n"
   ]
  },
  {
   "cell_type": "code",
   "execution_count": 56,
   "metadata": {},
   "outputs": [
    {
     "name": "stdout",
     "output_type": "stream",
     "text": [
      "Métrica: fold\n",
      "  Mínimo: 0\n",
      "  Máximo: 4\n",
      "---\n",
      "Métrica: accuracy\n",
      "  Mínimo: 0.2903225806451613\n",
      "  Máximo: 0.7096774193548387\n",
      "---\n",
      "Métrica: precision\n",
      "  Mínimo: 0.3\n",
      "  Máximo: 0.7333333333333333\n",
      "---\n",
      "Métrica: recall\n",
      "  Mínimo: 0.3333333333333333\n",
      "  Máximo: 0.6875\n",
      "---\n",
      "Métrica: f1_score\n",
      "  Mínimo: 0.3157894736842105\n",
      "  Máximo: 0.7096774193548386\n",
      "---\n",
      "Métrica: tp\n",
      "  Mínimo: 3\n",
      "  Máximo: 11\n",
      "---\n",
      "Métrica: tn\n",
      "  Mínimo: 3\n",
      "  Máximo: 15\n",
      "---\n",
      "Métrica: fp\n",
      "  Mínimo: 4\n",
      "  Máximo: 12\n",
      "---\n",
      "Métrica: fn\n",
      "  Mínimo: 5\n",
      "  Máximo: 10\n",
      "---\n"
     ]
    }
   ],
   "source": [
    "import pandas as pd\n",
    "\n",
    "# Cargar el archivo CSV\n",
    "csv_path = \"metrics_th2.csv\"  # Cambia al nombre de tu archivo\n",
    "data = pd.read_csv(csv_path, delimiter=\",\")  # Usa `delimiter=\"\\t\"` si es TSV\n",
    "\n",
    "\n",
    "# Calcular el rango (mínimo y máximo) para cada columna de métricas\n",
    "def calcular_rangos(data):\n",
    "    rangos = {}\n",
    "    #print(data)\n",
    "    #print(data.columns)\n",
    "    for columna in data.columns:  # Excluir la columna `fold`\n",
    "        minimo = data[columna].min()\n",
    "        maximo = data[columna].max()\n",
    "        #print(minimo, maximo)\n",
    "        rangos[columna] = (minimo, maximo)\n",
    "    return rangos\n",
    "\n",
    "# Llamar a la función y mostrar resultados\n",
    "rangos = calcular_rangos(data)\n",
    "#print(rangos)\n",
    "\n",
    "# Imprimir los rangos\n",
    "for metrica, (min_val, max_val) in rangos.items():\n",
    "    print(f\"Métrica: {metrica}\")\n",
    "    print(f\"  Mínimo: {min_val}\")\n",
    "    print(f\"  Máximo: {max_val}\")\n",
    "    print(\"---\")"
   ]
  },
  {
   "cell_type": "code",
   "execution_count": null,
   "metadata": {},
   "outputs": [],
   "source": []
  }
 ],
 "metadata": {
  "colab": {
   "provenance": []
  },
  "kernelspec": {
   "display_name": "Python 3",
   "name": "python3"
  },
  "language_info": {
   "codemirror_mode": {
    "name": "ipython",
    "version": 3
   },
   "file_extension": ".py",
   "mimetype": "text/x-python",
   "name": "python",
   "nbconvert_exporter": "python",
   "pygments_lexer": "ipython3",
   "version": "3.11.0"
  }
 },
 "nbformat": 4,
 "nbformat_minor": 0
}
